{
 "cells": [
  {
   "cell_type": "code",
   "execution_count": 15,
   "metadata": {},
   "outputs": [],
   "source": [
    "import pandas as pd\n",
    "import numpy as np\n",
    "import random\n",
    "from sklearn.decomposition import PCA\n",
    "from sklearn.preprocessing import StandardScaler\n",
    "from sklearn.feature_selection import SelectKBest\n",
    "from sklearn.naive_bayes import GaussianNB\n",
    "from sklearn.feature_selection import RFE\n",
    "from sklearn.svm import LinearSVC\n",
    "from sklearn.neural_network import MLPClassifier\n",
    "from sklearn.model_selection import train_test_split\n",
    "from sklearn import metrics\n",
    "from sklearn.ensemble import ExtraTreesClassifier\n",
    "from sklearn.tree import DecisionTreeClassifier\n",
    "from sklearn.ensemble import RandomForestClassifier\n",
    "from sklearn.ensemble import AdaBoostClassifier\n",
    "from sklearn.ensemble import GradientBoostingClassifier\n",
    "from sklearn.feature_selection import f_classif\n",
    "\n",
    "#dfs2=pd.read_excel('/home/shiloni/7sem/AI/AI final/mod_data/system_level.xlsx')#,sheet_name=None)"
   ]
  },
  {
   "cell_type": "code",
   "execution_count": 16,
   "metadata": {},
   "outputs": [],
   "source": [
    "dfs2=pd.read_excel('/Users/adityaankush/Desktop/mod_data/system-2.xlsx')#,sheet_name=None)\n",
    "dfs2=dfs2.dropna()\n",
    "\n",
    "#dfs2.shape"
   ]
  },
  {
   "cell_type": "code",
   "execution_count": null,
   "metadata": {},
   "outputs": [],
   "source": []
  },
  {
   "cell_type": "code",
   "execution_count": 17,
   "metadata": {},
   "outputs": [
    {
     "data": {
      "text/plain": [
       "(1173, 385)"
      ]
     },
     "execution_count": 17,
     "metadata": {},
     "output_type": "execute_result"
    }
   ],
   "source": [
    "dfs2.shape # now dfs2 is without vasopressin"
   ]
  },
  {
   "cell_type": "code",
   "execution_count": 18,
   "metadata": {},
   "outputs": [
    {
     "name": "stdout",
     "output_type": "stream",
     "text": [
      "['SKELETAL SYSTEM', 'MUSCULAR SYSTEM', 'CIRCULATORY SYSTEM', 'IMMUNE SYSTEM', 'DIGESTIVE SYSTEM', 'ENDOCRINE SYSTEM', 'NERVOUS SYSTEM', 'RESPIRATORY SYSTEM', 'EXCRETORY SYSTEM', 'Female Reproductive System', 'Male Reproductive System', 'INTEGUMENTRAY SYSTEM']\n",
      "[1, 1, 1, 1, 1, 0, 1, 1, 1, 1, 1, 1]\n",
      "[0, 7, 1, 0, 0, 0, 4, 0, 0, 0, 0, 0, 0, 0, 0, 2, 0, 0, 0, 0, 2, 0, 0, 0, 0, 0, 1, 0, 0, 0, 0, 0, 0, 0, 0, 0, 0, 0, 0, 0, 4, 0, 0, 0, 0, 1, 0, 0, 1, 0, 0, 1, 0, 0, 1, 0, 0, 0, 0, 0, 0, 0, 0, 0, 0, 0, 0, 0, 0, 0, 0, 0, 0, 0, 0, 0, 0, 0, 0, 0.0, 13.687, 4.417, 0.0, 0.0, 0.0, 4.04, 0, 0.0, 0.0, 0, 0.0, 0.0, 0, 0.0, 22.774, 0.0, 0.0, 0, 0.0, -0.48, 0.0, 0, 0.0, 0, 0.0, 2.11, 0.0, 0.0, 0, 0.0, 0, 0.0, 0.0, 0.0, 0, 0, 0, 0, 0, 2.848, 0, 0, 0.0, 0, 2.303, 0.0, 0, 5.751, 0, 0, 1.048, 0, 0.0, -0.337, 0, 0, 0, 0, 0.0, 0.0, 0, 0, 0, 0, 0, 0.0, 0, 0, 0.0, 0, 0, 0, 0, 0, 0, 0.0, 0.0, 0.0, 0, 14935.2, 3, 0, True, 0, 3.997, 356.119, -5.541, 0.81162, 0.84246, 0.88672, 0.93773, 0.72615, 0.98659, 0.83498, 0.75184, 0.53315, 0.80012, 0.193369, 0.183127, 0.569866, 384.866, 4, 1, 5, 2, 13, 0, 12, 2, 23, 25, 0, 0, 27, 0, 0, 5, 5, 1, 0, 0, 8, 0, 25, 27, 0, 1, 5, 5, 1, 1, 0, 0, 20, 0, 0, 0, 0, 0, 0, 0, 0, 0, 0, 0, 0, 0, 0, 0, 0, 0, 0, 0, 0, 3, 17, 0, 3, 0, 0, 1, 2, 0, 0, 0, 7, 0, 0, 0, 0, 19, 0, 0, 0, 0, 0, 0, 0, 0, 0, 0, 0, 0, 1, 0, 25, 0.232, 0.262, 134.23, 93.58, 577.198, 513.779, 356.71, 0.60902, 17.6481, 12.1354, 10.6623, 1.50754, 0.0, 8.65483, 14.8439, 9.18774, 7.0166, 0.82895, 0.0, 5.01401, 1.51999, 339.036, 444.235, 2814.75, 6667.86, 1.62731, 73.2293, 3.12385, 1.42004, 1.47919, 19.7531, 17.511, 9.79629, 8.18047, 6.0, 4.83823, 5.72993, 25, 27, 36, 7, 0, 44, 0.67268, 265.211, 310.764, 2456.03, 5577.25, 1917, 126, 3.14979, -2.33877, -2.10403, 0.15636, 183.273, 1220.67, 63.9068, 0.35808, -0.67694, -0.06, 0.64191, 1.21348, 0.03897, 231.222, -437.106, -38.7386, 414.495, 783.567, 25.1682, 0.78747, 0.18286, 1.99856, 0.14699, 1.31362, 0.21252, 645.717, 508.484, 137.233, 149.304, -282.246, -25.0142, 267.646, 505.962, 16.2515, 1.2932, 56.75, 17.49, 6.02992, 39.26, 2811.79, 84.2913, 1951.51, 2022.54, 4.14211, 21.9696, 112.424, 0.66759, 78.0759, 0.67003, 7.66519, 28.1463, 0.6923, 5.30394, 181.778, 630.056, 581.008, 282.28]\n",
      "12\n"
     ]
    },
    {
     "name": "stderr",
     "output_type": "stream",
     "text": [
      "/anaconda3/lib/python3.7/site-packages/ipykernel_launcher.py:1: FutureWarning: Method .as_matrix will be removed in a future version. Use .values instead.\n",
      "  \"\"\"Entry point for launching an IPython kernel.\n"
     ]
    }
   ],
   "source": [
    "d=dfs2.as_matrix()\n",
    "d1=d[507] # vasopressin in Sys_cleaned\n",
    "cols=list(dfs2.columns)\n",
    "cols=cols[373:]\n",
    "print(cols)\n",
    "d1=d1.tolist()\n",
    "orig=[]\n",
    "orig=d1[373:]\n",
    "print(orig)\n",
    "for i in range(12):\n",
    "    d1.pop()\n",
    "print(d1)\n",
    "print(len(orig))"
   ]
  },
  {
   "cell_type": "code",
   "execution_count": 19,
   "metadata": {},
   "outputs": [],
   "source": [
    "d=d.tolist()"
   ]
  },
  {
   "cell_type": "code",
   "execution_count": 20,
   "metadata": {},
   "outputs": [
    {
     "data": {
      "text/plain": [
       "(1172, 385)"
      ]
     },
     "execution_count": 20,
     "metadata": {},
     "output_type": "execute_result"
    }
   ],
   "source": [
    "d.pop(507)\n",
    "dfs2=pd.DataFrame(d)\n",
    "dfs2.shape"
   ]
  },
  {
   "cell_type": "code",
   "execution_count": 21,
   "metadata": {},
   "outputs": [
    {
     "name": "stdout",
     "output_type": "stream",
     "text": [
      "385\n",
      "[373, 374, 375, 376, 377, 378, 379, 380, 381, 382, 383, 384]\n",
      "[373, 374, 375, 376, 377, 378, 379, 380, 381, 382, 383, 384]\n",
      "(1172, 385)\n"
     ]
    }
   ],
   "source": [
    "l=list(dfs2.columns)\n",
    "print(len(l))\n",
    "ll=[i for i in range(len(l))]\n",
    "ll=ll[-12:]\n",
    "print(ll)\n",
    "lll=[]\n",
    "for i in ll:\n",
    "    lll.append(l[i])\n",
    "print(lll)\n",
    "print(dfs2.shape)"
   ]
  },
  {
   "cell_type": "code",
   "execution_count": 22,
   "metadata": {},
   "outputs": [
    {
     "name": "stdout",
     "output_type": "stream",
     "text": [
      "(1172, 373)\n"
     ]
    },
    {
     "name": "stderr",
     "output_type": "stream",
     "text": [
      "/anaconda3/lib/python3.7/site-packages/pandas/core/indexes/base.py:2095: FutureWarning: Using a non-tuple sequence for multidimensional indexing is deprecated; use `arr[tuple(seq)]` instead of `arr[seq]`. In the future this will be interpreted as an array index, `arr[np.array(seq)]`, which will result either in an error or a different result.\n",
      "  result = getitem(key)\n"
     ]
    }
   ],
   "source": [
    "dfs=dfs2.drop(dfs2.columns[[ll]],axis=1)\n",
    "print(dfs.shape)\n",
    "scaler = StandardScaler()\n",
    "sc_mod=scaler.fit(dfs)\n",
    "dfs=sc_mod.transform(dfs)"
   ]
  },
  {
   "cell_type": "code",
   "execution_count": 23,
   "metadata": {},
   "outputs": [],
   "source": [
    "def check_precision(y_test,y_pred):\n",
    "    from sklearn.metrics import classification_report, confusion_matrix  \n",
    "    print(confusion_matrix(y_test,y_pred))  \n",
    "    #print(classification_report(y_test,y_pred))"
   ]
  },
  {
   "cell_type": "code",
   "execution_count": 24,
   "metadata": {},
   "outputs": [],
   "source": [
    "def modify_imbalance(X,y):\n",
    "    #x=X.as_matrix()\n",
    "    x=X.tolist()\n",
    "    y=y.tolist()\n",
    "    count=-1\n",
    "    n1=[]\n",
    "    n2=[]\n",
    "    for i in y:\n",
    "        count+=0\n",
    "        if(i==1):\n",
    "            n1.append(x[count])\n",
    "        else:\n",
    "            n2.append(x[count])\n",
    "    if(len(n1)>len(n2)):\n",
    "        print(\"1 is more\")\n",
    "        diff=len(n1)-len(n2)\n",
    "        i=0\n",
    "        while(diff>0 and len(n2)>0):\n",
    "            x.append(n2[random.randint(0,len(n2)-1)])\n",
    "            y.append(0)\n",
    "            #n2.pop()\n",
    "            diff=diff-1\n",
    "    elif(len(n1)<len(n2)):\n",
    "        print(\"0 is more\")\n",
    "        diff=len(n2)-len(n1)\n",
    "        i=0\n",
    "        while(diff>0 and len(n1)>0):\n",
    "            x.append(n1[random.randint(0,len(n1)-1)])\n",
    "            y.append(1)\n",
    "            #n1.pop()\n",
    "            diff=diff-1\n",
    "    x=pd.DataFrame(x)\n",
    "    y=pd.Series(y)\n",
    "    return(x,y)\n",
    "    \n",
    "            "
   ]
  },
  {
   "cell_type": "code",
   "execution_count": 25,
   "metadata": {},
   "outputs": [
    {
     "name": "stderr",
     "output_type": "stream",
     "text": [
      "/anaconda3/lib/python3.7/site-packages/sklearn/feature_selection/univariate_selection.py:113: UserWarning: Features [  7  10  13  18  22  24  29  31  35  36  37  38  39  41  42  44  47  49\n",
      "  50  52  55  56  57  58  61  62  63  64  65  67  68  70  71  72  73  74\n",
      "  75  86  89  92  97 101 103 108 110 114 115 116 117 118 120 121 123 126\n",
      " 128 129 131 134 135 136 137 140 141 142 143 144 146 147 149 150 151 152\n",
      " 153 154 160 162 163 186 199 200 202 211 212 214 215 216 217 218 221 222\n",
      " 223 224 226 227 229 230 231 232 233 246 247 248 249 254 257 261 262 264] are constant.\n",
      "  UserWarning)\n",
      "/anaconda3/lib/python3.7/site-packages/sklearn/feature_selection/univariate_selection.py:114: RuntimeWarning: invalid value encountered in true_divide\n",
      "  f = msb / msw\n"
     ]
    },
    {
     "name": "stdout",
     "output_type": "stream",
     "text": [
      "1 is more\n",
      "<class 'sklearn.neural_network.multilayer_perceptron.MLPClassifier'>\n",
      "<class 'sklearn.neural_network.multilayer_perceptron.MLPClassifier'>\n",
      "<class 'sklearn.naive_bayes.GaussianNB'>\n"
     ]
    },
    {
     "name": "stderr",
     "output_type": "stream",
     "text": [
      "/anaconda3/lib/python3.7/site-packages/sklearn/metrics/classification.py:1135: UndefinedMetricWarning: F-score is ill-defined and being set to 0.0 due to no predicted samples.\n",
      "  'precision', 'predicted', average, warn_for)\n"
     ]
    },
    {
     "name": "stdout",
     "output_type": "stream",
     "text": [
      "<class 'sklearn.svm.classes.LinearSVC'>\n",
      "<class 'sklearn.svm.classes.LinearSVC'>\n",
      "<class 'sklearn.ensemble.forest.ExtraTreesClassifier'>\n",
      "<class 'sklearn.ensemble.forest.ExtraTreesClassifier'>\n",
      "<class 'sklearn.tree.tree.DecisionTreeClassifier'>\n",
      "<class 'sklearn.tree.tree.DecisionTreeClassifier'>\n",
      "<class 'sklearn.ensemble.forest.RandomForestClassifier'>\n",
      "<class 'sklearn.ensemble.weight_boosting.AdaBoostClassifier'>\n",
      "<class 'sklearn.ensemble.weight_boosting.AdaBoostClassifier'>\n",
      "<class 'sklearn.ensemble.gradient_boosting.GradientBoostingClassifier'>\n",
      "<class 'sklearn.ensemble.gradient_boosting.GradientBoostingClassifier'>\n",
      "-1\n",
      "-1\n",
      "373\n",
      "1 is more\n"
     ]
    },
    {
     "name": "stderr",
     "output_type": "stream",
     "text": [
      "/anaconda3/lib/python3.7/site-packages/sklearn/feature_selection/univariate_selection.py:113: UserWarning: Features [  7  10  13  18  22  24  29  31  35  36  37  38  39  41  42  44  47  49\n",
      "  50  52  55  56  57  58  61  62  63  64  65  67  68  70  71  72  73  74\n",
      "  75  86  89  92  97 101 103 108 110 114 115 116 117 118 120 121 123 126\n",
      " 128 129 131 134 135 136 137 140 141 142 143 144 146 147 149 150 151 152\n",
      " 153 154 160 162 163 186 199 200 202 211 212 214 215 216 217 218 221 222\n",
      " 223 224 226 227 229 230 231 232 233 246 247 248 249 254 257 261 262 264] are constant.\n",
      "  UserWarning)\n",
      "/anaconda3/lib/python3.7/site-packages/sklearn/feature_selection/univariate_selection.py:114: RuntimeWarning: invalid value encountered in true_divide\n",
      "  f = msb / msw\n",
      "/anaconda3/lib/python3.7/site-packages/sklearn/neural_network/multilayer_perceptron.py:564: ConvergenceWarning: Stochastic Optimizer: Maximum iterations (200) reached and the optimization hasn't converged yet.\n",
      "  % self.max_iter, ConvergenceWarning)\n"
     ]
    },
    {
     "name": "stdout",
     "output_type": "stream",
     "text": [
      "<class 'sklearn.neural_network.multilayer_perceptron.MLPClassifier'>\n",
      "<class 'sklearn.neural_network.multilayer_perceptron.MLPClassifier'>\n",
      "<class 'sklearn.naive_bayes.GaussianNB'>\n",
      "<class 'sklearn.naive_bayes.GaussianNB'>\n",
      "<class 'sklearn.svm.classes.LinearSVC'>\n",
      "<class 'sklearn.svm.classes.LinearSVC'>\n",
      "<class 'sklearn.ensemble.forest.ExtraTreesClassifier'>\n",
      "<class 'sklearn.ensemble.forest.ExtraTreesClassifier'>\n",
      "<class 'sklearn.tree.tree.DecisionTreeClassifier'>\n"
     ]
    },
    {
     "name": "stderr",
     "output_type": "stream",
     "text": [
      "/anaconda3/lib/python3.7/site-packages/sklearn/metrics/classification.py:1135: UndefinedMetricWarning: F-score is ill-defined and being set to 0.0 due to no predicted samples.\n",
      "  'precision', 'predicted', average, warn_for)\n"
     ]
    },
    {
     "name": "stdout",
     "output_type": "stream",
     "text": [
      "<class 'sklearn.ensemble.forest.RandomForestClassifier'>\n",
      "<class 'sklearn.ensemble.weight_boosting.AdaBoostClassifier'>\n",
      "<class 'sklearn.ensemble.weight_boosting.AdaBoostClassifier'>\n",
      "<class 'sklearn.ensemble.gradient_boosting.GradientBoostingClassifier'>\n",
      "<class 'sklearn.ensemble.gradient_boosting.GradientBoostingClassifier'>\n",
      "-1\n",
      "-1\n",
      "374\n",
      "1 is more\n"
     ]
    },
    {
     "name": "stderr",
     "output_type": "stream",
     "text": [
      "/anaconda3/lib/python3.7/site-packages/sklearn/feature_selection/univariate_selection.py:113: UserWarning: Features [  7  10  13  18  22  24  29  31  35  36  37  38  39  41  42  44  47  49\n",
      "  50  52  55  56  57  58  61  62  63  64  65  67  68  70  71  72  73  74\n",
      "  75  86  89  92  97 101 103 108 110 114 115 116 117 118 120 121 123 126\n",
      " 128 129 131 134 135 136 137 140 141 142 143 144 146 147 149 150 151 152\n",
      " 153 154 160 162 163 186 199 200 202 211 212 214 215 216 217 218 221 222\n",
      " 223 224 226 227 229 230 231 232 233 246 247 248 249 254 257 261 262 264] are constant.\n",
      "  UserWarning)\n",
      "/anaconda3/lib/python3.7/site-packages/sklearn/feature_selection/univariate_selection.py:114: RuntimeWarning: invalid value encountered in true_divide\n",
      "  f = msb / msw\n"
     ]
    },
    {
     "name": "stdout",
     "output_type": "stream",
     "text": [
      "<class 'sklearn.neural_network.multilayer_perceptron.MLPClassifier'>\n",
      "<class 'sklearn.neural_network.multilayer_perceptron.MLPClassifier'>\n",
      "<class 'sklearn.naive_bayes.GaussianNB'>\n",
      "<class 'sklearn.naive_bayes.GaussianNB'>\n",
      "<class 'sklearn.svm.classes.LinearSVC'>\n",
      "<class 'sklearn.svm.classes.LinearSVC'>\n",
      "<class 'sklearn.ensemble.forest.ExtraTreesClassifier'>\n",
      "<class 'sklearn.ensemble.forest.ExtraTreesClassifier'>\n",
      "<class 'sklearn.tree.tree.DecisionTreeClassifier'>\n",
      "<class 'sklearn.tree.tree.DecisionTreeClassifier'>\n",
      "<class 'sklearn.ensemble.forest.RandomForestClassifier'>\n",
      "<class 'sklearn.ensemble.weight_boosting.AdaBoostClassifier'>\n",
      "<class 'sklearn.ensemble.weight_boosting.AdaBoostClassifier'>\n",
      "<class 'sklearn.ensemble.gradient_boosting.GradientBoostingClassifier'>\n",
      "<class 'sklearn.ensemble.gradient_boosting.GradientBoostingClassifier'>\n",
      "-1\n",
      "-1\n",
      "375\n",
      "1 is more\n"
     ]
    },
    {
     "name": "stderr",
     "output_type": "stream",
     "text": [
      "/anaconda3/lib/python3.7/site-packages/sklearn/feature_selection/univariate_selection.py:113: UserWarning: Features [  7  10  13  18  22  24  29  31  35  36  37  38  39  41  42  44  47  49\n",
      "  50  52  55  56  57  58  61  62  63  64  65  67  68  70  71  72  73  74\n",
      "  75  86  89  92  97 101 103 108 110 114 115 116 117 118 120 121 123 126\n",
      " 128 129 131 134 135 136 137 140 141 142 143 144 146 147 149 150 151 152\n",
      " 153 154 160 162 163 186 199 200 202 211 212 214 215 216 217 218 221 222\n",
      " 223 224 226 227 229 230 231 232 233 246 247 248 249 254 257 261 262 264] are constant.\n",
      "  UserWarning)\n",
      "/anaconda3/lib/python3.7/site-packages/sklearn/feature_selection/univariate_selection.py:114: RuntimeWarning: invalid value encountered in true_divide\n",
      "  f = msb / msw\n",
      "/anaconda3/lib/python3.7/site-packages/sklearn/neural_network/multilayer_perceptron.py:564: ConvergenceWarning: Stochastic Optimizer: Maximum iterations (200) reached and the optimization hasn't converged yet.\n",
      "  % self.max_iter, ConvergenceWarning)\n"
     ]
    },
    {
     "name": "stdout",
     "output_type": "stream",
     "text": [
      "<class 'sklearn.neural_network.multilayer_perceptron.MLPClassifier'>\n",
      "<class 'sklearn.neural_network.multilayer_perceptron.MLPClassifier'>\n",
      "<class 'sklearn.naive_bayes.GaussianNB'>\n",
      "<class 'sklearn.naive_bayes.GaussianNB'>\n",
      "<class 'sklearn.svm.classes.LinearSVC'>\n",
      "<class 'sklearn.svm.classes.LinearSVC'>\n",
      "<class 'sklearn.ensemble.forest.ExtraTreesClassifier'>\n",
      "<class 'sklearn.ensemble.forest.ExtraTreesClassifier'>\n",
      "<class 'sklearn.tree.tree.DecisionTreeClassifier'>\n",
      "<class 'sklearn.tree.tree.DecisionTreeClassifier'>\n",
      "<class 'sklearn.ensemble.forest.RandomForestClassifier'>\n",
      "<class 'sklearn.ensemble.weight_boosting.AdaBoostClassifier'>\n",
      "<class 'sklearn.ensemble.weight_boosting.AdaBoostClassifier'>\n",
      "<class 'sklearn.ensemble.gradient_boosting.GradientBoostingClassifier'>\n",
      "<class 'sklearn.ensemble.gradient_boosting.GradientBoostingClassifier'>\n",
      "-1\n",
      "-1\n",
      "376\n",
      "1 is more\n"
     ]
    },
    {
     "name": "stderr",
     "output_type": "stream",
     "text": [
      "/anaconda3/lib/python3.7/site-packages/sklearn/feature_selection/univariate_selection.py:113: UserWarning: Features [  7  10  13  18  22  24  29  31  35  36  37  38  39  41  42  44  47  49\n",
      "  50  52  55  56  57  58  61  62  63  64  65  67  68  70  71  72  73  74\n",
      "  75  86  89  92  97 101 103 108 110 114 115 116 117 118 120 121 123 126\n",
      " 128 129 131 134 135 136 137 140 141 142 143 144 146 147 149 150 151 152\n",
      " 153 154 160 162 163 186 199 200 202 211 212 214 215 216 217 218 221 222\n",
      " 223 224 226 227 229 230 231 232 233 246 247 248 249 254 257 261 262 264] are constant.\n",
      "  UserWarning)\n",
      "/anaconda3/lib/python3.7/site-packages/sklearn/feature_selection/univariate_selection.py:114: RuntimeWarning: invalid value encountered in true_divide\n",
      "  f = msb / msw\n"
     ]
    },
    {
     "name": "stdout",
     "output_type": "stream",
     "text": [
      "<class 'sklearn.neural_network.multilayer_perceptron.MLPClassifier'>\n",
      "<class 'sklearn.neural_network.multilayer_perceptron.MLPClassifier'>\n",
      "<class 'sklearn.naive_bayes.GaussianNB'>\n",
      "<class 'sklearn.naive_bayes.GaussianNB'>\n",
      "<class 'sklearn.svm.classes.LinearSVC'>\n",
      "<class 'sklearn.svm.classes.LinearSVC'>\n",
      "<class 'sklearn.ensemble.forest.ExtraTreesClassifier'>\n",
      "<class 'sklearn.ensemble.forest.ExtraTreesClassifier'>\n",
      "<class 'sklearn.tree.tree.DecisionTreeClassifier'>\n",
      "<class 'sklearn.tree.tree.DecisionTreeClassifier'>\n",
      "<class 'sklearn.ensemble.forest.RandomForestClassifier'>\n",
      "<class 'sklearn.ensemble.weight_boosting.AdaBoostClassifier'>\n",
      "<class 'sklearn.ensemble.weight_boosting.AdaBoostClassifier'>\n",
      "<class 'sklearn.ensemble.gradient_boosting.GradientBoostingClassifier'>\n",
      "<class 'sklearn.ensemble.gradient_boosting.GradientBoostingClassifier'>\n",
      "-1\n",
      "-1\n",
      "377\n",
      "0 is more\n"
     ]
    },
    {
     "name": "stderr",
     "output_type": "stream",
     "text": [
      "/anaconda3/lib/python3.7/site-packages/sklearn/feature_selection/univariate_selection.py:113: UserWarning: Features [  7  10  13  18  22  24  29  31  35  36  37  38  39  41  42  44  47  49\n",
      "  50  52  55  56  57  58  61  62  63  64  65  67  68  70  71  72  73  74\n",
      "  75  86  89  92  97 101 103 108 110 114 115 116 117 118 120 121 123 126\n",
      " 128 129 131 134 135 136 137 140 141 142 143 144 146 147 149 150 151 152\n",
      " 153 154 160 162 163 186 199 200 202 211 212 214 215 216 217 218 221 222\n",
      " 223 224 226 227 229 230 231 232 233 246 247 248 249 254 257 261 262 264] are constant.\n",
      "  UserWarning)\n",
      "/anaconda3/lib/python3.7/site-packages/sklearn/feature_selection/univariate_selection.py:114: RuntimeWarning: invalid value encountered in true_divide\n",
      "  f = msb / msw\n",
      "/anaconda3/lib/python3.7/site-packages/sklearn/neural_network/multilayer_perceptron.py:564: ConvergenceWarning: Stochastic Optimizer: Maximum iterations (200) reached and the optimization hasn't converged yet.\n",
      "  % self.max_iter, ConvergenceWarning)\n",
      "/anaconda3/lib/python3.7/site-packages/sklearn/metrics/classification.py:1135: UndefinedMetricWarning: F-score is ill-defined and being set to 0.0 due to no predicted samples.\n",
      "  'precision', 'predicted', average, warn_for)\n"
     ]
    },
    {
     "name": "stdout",
     "output_type": "stream",
     "text": [
      "<class 'sklearn.neural_network.multilayer_perceptron.MLPClassifier'>\n",
      "<class 'sklearn.naive_bayes.GaussianNB'>\n",
      "<class 'sklearn.svm.classes.LinearSVC'>\n",
      "<class 'sklearn.ensemble.forest.ExtraTreesClassifier'>\n",
      "<class 'sklearn.tree.tree.DecisionTreeClassifier'>\n",
      "<class 'sklearn.tree.tree.DecisionTreeClassifier'>\n",
      "<class 'sklearn.ensemble.forest.RandomForestClassifier'>\n",
      "<class 'sklearn.ensemble.forest.RandomForestClassifier'>\n"
     ]
    },
    {
     "name": "stderr",
     "output_type": "stream",
     "text": [
      "/anaconda3/lib/python3.7/site-packages/sklearn/metrics/classification.py:1135: UndefinedMetricWarning: F-score is ill-defined and being set to 0.0 due to no predicted samples.\n",
      "  'precision', 'predicted', average, warn_for)\n",
      "/anaconda3/lib/python3.7/site-packages/sklearn/metrics/classification.py:1135: UndefinedMetricWarning: F-score is ill-defined and being set to 0.0 due to no predicted samples.\n",
      "  'precision', 'predicted', average, warn_for)\n",
      "/anaconda3/lib/python3.7/site-packages/sklearn/metrics/classification.py:1135: UndefinedMetricWarning: F-score is ill-defined and being set to 0.0 due to no predicted samples.\n",
      "  'precision', 'predicted', average, warn_for)\n"
     ]
    },
    {
     "name": "stdout",
     "output_type": "stream",
     "text": [
      "<class 'sklearn.ensemble.weight_boosting.AdaBoostClassifier'>\n",
      "<class 'sklearn.ensemble.gradient_boosting.GradientBoostingClassifier'>\n",
      "-1\n",
      "-1\n",
      "1 is more\n"
     ]
    },
    {
     "name": "stderr",
     "output_type": "stream",
     "text": [
      "/anaconda3/lib/python3.7/site-packages/sklearn/feature_selection/univariate_selection.py:113: UserWarning: Features [  7  10  13  18  22  24  29  31  35  36  37  38  39  41  42  44  47  49\n",
      "  50  52  55  56  57  58  61  62  63  64  65  67  68  70  71  72  73  74\n",
      "  75  86  89  92  97 101 103 108 110 114 115 116 117 118 120 121 123 126\n",
      " 128 129 131 134 135 136 137 140 141 142 143 144 146 147 149 150 151 152\n",
      " 153 154 160 162 163 186 199 200 202 211 212 214 215 216 217 218 221 222\n",
      " 223 224 226 227 229 230 231 232 233 246 247 248 249 254 257 261 262 264] are constant.\n",
      "  UserWarning)\n",
      "/anaconda3/lib/python3.7/site-packages/sklearn/feature_selection/univariate_selection.py:114: RuntimeWarning: invalid value encountered in true_divide\n",
      "  f = msb / msw\n",
      "/anaconda3/lib/python3.7/site-packages/sklearn/neural_network/multilayer_perceptron.py:564: ConvergenceWarning: Stochastic Optimizer: Maximum iterations (200) reached and the optimization hasn't converged yet.\n",
      "  % self.max_iter, ConvergenceWarning)\n"
     ]
    },
    {
     "name": "stdout",
     "output_type": "stream",
     "text": [
      "<class 'sklearn.neural_network.multilayer_perceptron.MLPClassifier'>\n",
      "<class 'sklearn.neural_network.multilayer_perceptron.MLPClassifier'>\n",
      "<class 'sklearn.naive_bayes.GaussianNB'>\n",
      "<class 'sklearn.naive_bayes.GaussianNB'>\n",
      "<class 'sklearn.svm.classes.LinearSVC'>\n",
      "<class 'sklearn.svm.classes.LinearSVC'>\n",
      "<class 'sklearn.ensemble.forest.ExtraTreesClassifier'>\n",
      "<class 'sklearn.ensemble.forest.ExtraTreesClassifier'>\n",
      "<class 'sklearn.tree.tree.DecisionTreeClassifier'>\n",
      "<class 'sklearn.tree.tree.DecisionTreeClassifier'>\n",
      "<class 'sklearn.ensemble.forest.RandomForestClassifier'>\n",
      "<class 'sklearn.ensemble.weight_boosting.AdaBoostClassifier'>\n",
      "<class 'sklearn.ensemble.weight_boosting.AdaBoostClassifier'>\n",
      "<class 'sklearn.ensemble.gradient_boosting.GradientBoostingClassifier'>\n",
      "<class 'sklearn.ensemble.gradient_boosting.GradientBoostingClassifier'>\n",
      "-1\n",
      "-1\n",
      "379\n",
      "1 is more\n"
     ]
    },
    {
     "name": "stderr",
     "output_type": "stream",
     "text": [
      "/anaconda3/lib/python3.7/site-packages/sklearn/feature_selection/univariate_selection.py:113: UserWarning: Features [  7  10  13  18  22  24  29  31  35  36  37  38  39  41  42  44  47  49\n",
      "  50  52  55  56  57  58  61  62  63  64  65  67  68  70  71  72  73  74\n",
      "  75  86  89  92  97 101 103 108 110 114 115 116 117 118 120 121 123 126\n",
      " 128 129 131 134 135 136 137 140 141 142 143 144 146 147 149 150 151 152\n",
      " 153 154 160 162 163 186 199 200 202 211 212 214 215 216 217 218 221 222\n",
      " 223 224 226 227 229 230 231 232 233 246 247 248 249 254 257 261 262 264] are constant.\n",
      "  UserWarning)\n",
      "/anaconda3/lib/python3.7/site-packages/sklearn/feature_selection/univariate_selection.py:114: RuntimeWarning: invalid value encountered in true_divide\n",
      "  f = msb / msw\n"
     ]
    },
    {
     "name": "stdout",
     "output_type": "stream",
     "text": [
      "<class 'sklearn.neural_network.multilayer_perceptron.MLPClassifier'>\n",
      "<class 'sklearn.neural_network.multilayer_perceptron.MLPClassifier'>\n",
      "<class 'sklearn.naive_bayes.GaussianNB'>\n"
     ]
    },
    {
     "name": "stderr",
     "output_type": "stream",
     "text": [
      "/anaconda3/lib/python3.7/site-packages/sklearn/metrics/classification.py:1137: UndefinedMetricWarning: F-score is ill-defined and being set to 0.0 due to no true samples.\n",
      "  'recall', 'true', average, warn_for)\n"
     ]
    },
    {
     "name": "stdout",
     "output_type": "stream",
     "text": [
      "<class 'sklearn.svm.classes.LinearSVC'>\n",
      "<class 'sklearn.svm.classes.LinearSVC'>\n",
      "<class 'sklearn.ensemble.forest.ExtraTreesClassifier'>\n",
      "<class 'sklearn.ensemble.forest.ExtraTreesClassifier'>\n",
      "<class 'sklearn.tree.tree.DecisionTreeClassifier'>\n",
      "<class 'sklearn.tree.tree.DecisionTreeClassifier'>\n",
      "<class 'sklearn.ensemble.forest.RandomForestClassifier'>\n"
     ]
    },
    {
     "name": "stderr",
     "output_type": "stream",
     "text": [
      "/anaconda3/lib/python3.7/site-packages/sklearn/metrics/classification.py:1137: UndefinedMetricWarning: F-score is ill-defined and being set to 0.0 due to no true samples.\n",
      "  'recall', 'true', average, warn_for)\n",
      "/anaconda3/lib/python3.7/site-packages/sklearn/metrics/classification.py:1137: UndefinedMetricWarning: F-score is ill-defined and being set to 0.0 due to no true samples.\n",
      "  'recall', 'true', average, warn_for)\n"
     ]
    },
    {
     "name": "stdout",
     "output_type": "stream",
     "text": [
      "<class 'sklearn.ensemble.weight_boosting.AdaBoostClassifier'>\n",
      "<class 'sklearn.ensemble.weight_boosting.AdaBoostClassifier'>\n"
     ]
    },
    {
     "name": "stderr",
     "output_type": "stream",
     "text": [
      "/anaconda3/lib/python3.7/site-packages/sklearn/metrics/classification.py:1137: UndefinedMetricWarning: F-score is ill-defined and being set to 0.0 due to no true samples.\n",
      "  'recall', 'true', average, warn_for)\n"
     ]
    },
    {
     "name": "stdout",
     "output_type": "stream",
     "text": [
      "<class 'sklearn.ensemble.gradient_boosting.GradientBoostingClassifier'>\n",
      "<class 'sklearn.ensemble.gradient_boosting.GradientBoostingClassifier'>\n",
      "-1\n",
      "-1\n",
      "380\n",
      "1 is more\n"
     ]
    },
    {
     "name": "stderr",
     "output_type": "stream",
     "text": [
      "/anaconda3/lib/python3.7/site-packages/sklearn/feature_selection/univariate_selection.py:113: UserWarning: Features [  7  10  13  18  22  24  29  31  35  36  37  38  39  41  42  44  47  49\n",
      "  50  52  55  56  57  58  61  62  63  64  65  67  68  70  71  72  73  74\n",
      "  75  86  89  92  97 101 103 108 110 114 115 116 117 118 120 121 123 126\n",
      " 128 129 131 134 135 136 137 140 141 142 143 144 146 147 149 150 151 152\n",
      " 153 154 160 162 163 186 199 200 202 211 212 214 215 216 217 218 221 222\n",
      " 223 224 226 227 229 230 231 232 233 246 247 248 249 254 257 261 262 264] are constant.\n",
      "  UserWarning)\n",
      "/anaconda3/lib/python3.7/site-packages/sklearn/feature_selection/univariate_selection.py:114: RuntimeWarning: invalid value encountered in true_divide\n",
      "  f = msb / msw\n",
      "/anaconda3/lib/python3.7/site-packages/sklearn/neural_network/multilayer_perceptron.py:564: ConvergenceWarning: Stochastic Optimizer: Maximum iterations (200) reached and the optimization hasn't converged yet.\n",
      "  % self.max_iter, ConvergenceWarning)\n"
     ]
    },
    {
     "name": "stdout",
     "output_type": "stream",
     "text": [
      "<class 'sklearn.neural_network.multilayer_perceptron.MLPClassifier'>\n",
      "<class 'sklearn.neural_network.multilayer_perceptron.MLPClassifier'>\n",
      "<class 'sklearn.naive_bayes.GaussianNB'>\n",
      "<class 'sklearn.naive_bayes.GaussianNB'>\n",
      "<class 'sklearn.svm.classes.LinearSVC'>\n",
      "<class 'sklearn.svm.classes.LinearSVC'>\n",
      "<class 'sklearn.ensemble.forest.ExtraTreesClassifier'>\n",
      "<class 'sklearn.ensemble.forest.ExtraTreesClassifier'>\n",
      "<class 'sklearn.tree.tree.DecisionTreeClassifier'>\n",
      "<class 'sklearn.tree.tree.DecisionTreeClassifier'>\n",
      "<class 'sklearn.ensemble.forest.RandomForestClassifier'>\n",
      "<class 'sklearn.ensemble.weight_boosting.AdaBoostClassifier'>\n",
      "<class 'sklearn.ensemble.weight_boosting.AdaBoostClassifier'>\n",
      "<class 'sklearn.ensemble.gradient_boosting.GradientBoostingClassifier'>\n",
      "<class 'sklearn.ensemble.gradient_boosting.GradientBoostingClassifier'>\n",
      "-1\n",
      "-1\n",
      "381\n",
      "1 is more\n"
     ]
    },
    {
     "name": "stderr",
     "output_type": "stream",
     "text": [
      "/anaconda3/lib/python3.7/site-packages/sklearn/feature_selection/univariate_selection.py:113: UserWarning: Features [  7  10  13  18  22  24  29  31  35  36  37  38  39  41  42  44  47  49\n",
      "  50  52  55  56  57  58  61  62  63  64  65  67  68  70  71  72  73  74\n",
      "  75  86  89  92  97 101 103 108 110 114 115 116 117 118 120 121 123 126\n",
      " 128 129 131 134 135 136 137 140 141 142 143 144 146 147 149 150 151 152\n",
      " 153 154 160 162 163 186 199 200 202 211 212 214 215 216 217 218 221 222\n",
      " 223 224 226 227 229 230 231 232 233 246 247 248 249 254 257 261 262 264] are constant.\n",
      "  UserWarning)\n",
      "/anaconda3/lib/python3.7/site-packages/sklearn/feature_selection/univariate_selection.py:114: RuntimeWarning: invalid value encountered in true_divide\n",
      "  f = msb / msw\n",
      "/anaconda3/lib/python3.7/site-packages/sklearn/neural_network/multilayer_perceptron.py:564: ConvergenceWarning: Stochastic Optimizer: Maximum iterations (200) reached and the optimization hasn't converged yet.\n",
      "  % self.max_iter, ConvergenceWarning)\n"
     ]
    },
    {
     "name": "stdout",
     "output_type": "stream",
     "text": [
      "<class 'sklearn.neural_network.multilayer_perceptron.MLPClassifier'>\n",
      "<class 'sklearn.neural_network.multilayer_perceptron.MLPClassifier'>\n",
      "<class 'sklearn.naive_bayes.GaussianNB'>\n",
      "<class 'sklearn.naive_bayes.GaussianNB'>\n",
      "<class 'sklearn.svm.classes.LinearSVC'>\n",
      "<class 'sklearn.svm.classes.LinearSVC'>\n",
      "<class 'sklearn.ensemble.forest.ExtraTreesClassifier'>\n",
      "<class 'sklearn.ensemble.forest.ExtraTreesClassifier'>\n",
      "<class 'sklearn.tree.tree.DecisionTreeClassifier'>\n",
      "<class 'sklearn.tree.tree.DecisionTreeClassifier'>\n",
      "<class 'sklearn.ensemble.forest.RandomForestClassifier'>\n",
      "<class 'sklearn.ensemble.weight_boosting.AdaBoostClassifier'>\n",
      "<class 'sklearn.ensemble.weight_boosting.AdaBoostClassifier'>\n"
     ]
    },
    {
     "name": "stderr",
     "output_type": "stream",
     "text": [
      "/anaconda3/lib/python3.7/site-packages/sklearn/metrics/classification.py:1135: UndefinedMetricWarning: F-score is ill-defined and being set to 0.0 due to no predicted samples.\n",
      "  'precision', 'predicted', average, warn_for)\n",
      "/anaconda3/lib/python3.7/site-packages/sklearn/feature_selection/univariate_selection.py:113: UserWarning: Features [  7  10  13  18  22  24  29  31  35  36  37  38  39  41  42  44  47  49\n",
      "  50  52  55  56  57  58  61  62  63  64  65  67  68  70  71  72  73  74\n",
      "  75  86  89  92  97 101 103 108 110 114 115 116 117 118 120 121 123 126\n",
      " 128 129 131 134 135 136 137 140 141 142 143 144 146 147 149 150 151 152\n",
      " 153 154 160 162 163 186 199 200 202 211 212 214 215 216 217 218 221 222\n",
      " 223 224 226 227 229 230 231 232 233 246 247 248 249 254 257 261 262 264] are constant.\n",
      "  UserWarning)\n",
      "/anaconda3/lib/python3.7/site-packages/sklearn/feature_selection/univariate_selection.py:114: RuntimeWarning: invalid value encountered in true_divide\n",
      "  f = msb / msw\n"
     ]
    },
    {
     "name": "stdout",
     "output_type": "stream",
     "text": [
      "<class 'sklearn.ensemble.gradient_boosting.GradientBoostingClassifier'>\n",
      "-1\n",
      "-1\n",
      "382\n",
      "0 is more\n"
     ]
    },
    {
     "name": "stderr",
     "output_type": "stream",
     "text": [
      "/anaconda3/lib/python3.7/site-packages/sklearn/neural_network/multilayer_perceptron.py:564: ConvergenceWarning: Stochastic Optimizer: Maximum iterations (200) reached and the optimization hasn't converged yet.\n",
      "  % self.max_iter, ConvergenceWarning)\n"
     ]
    },
    {
     "name": "stdout",
     "output_type": "stream",
     "text": [
      "<class 'sklearn.neural_network.multilayer_perceptron.MLPClassifier'>\n",
      "<class 'sklearn.naive_bayes.GaussianNB'>\n",
      "<class 'sklearn.naive_bayes.GaussianNB'>\n",
      "<class 'sklearn.svm.classes.LinearSVC'>\n",
      "<class 'sklearn.ensemble.forest.ExtraTreesClassifier'>\n",
      "<class 'sklearn.ensemble.forest.ExtraTreesClassifier'>\n",
      "<class 'sklearn.tree.tree.DecisionTreeClassifier'>\n"
     ]
    },
    {
     "name": "stderr",
     "output_type": "stream",
     "text": [
      "/anaconda3/lib/python3.7/site-packages/sklearn/metrics/classification.py:1135: UndefinedMetricWarning: F-score is ill-defined and being set to 0.0 due to no predicted samples.\n",
      "  'precision', 'predicted', average, warn_for)\n",
      "/anaconda3/lib/python3.7/site-packages/sklearn/metrics/classification.py:1135: UndefinedMetricWarning: F-score is ill-defined and being set to 0.0 due to no predicted samples.\n",
      "  'precision', 'predicted', average, warn_for)\n"
     ]
    },
    {
     "name": "stdout",
     "output_type": "stream",
     "text": [
      "<class 'sklearn.ensemble.forest.RandomForestClassifier'>\n",
      "<class 'sklearn.ensemble.forest.RandomForestClassifier'>\n",
      "<class 'sklearn.ensemble.weight_boosting.AdaBoostClassifier'>\n",
      "<class 'sklearn.ensemble.weight_boosting.AdaBoostClassifier'>\n"
     ]
    },
    {
     "name": "stderr",
     "output_type": "stream",
     "text": [
      "/anaconda3/lib/python3.7/site-packages/sklearn/metrics/classification.py:1135: UndefinedMetricWarning: F-score is ill-defined and being set to 0.0 due to no predicted samples.\n",
      "  'precision', 'predicted', average, warn_for)\n",
      "/anaconda3/lib/python3.7/site-packages/sklearn/feature_selection/univariate_selection.py:113: UserWarning: Features [  7  10  13  18  22  24  29  31  35  36  37  38  39  41  42  44  47  49\n",
      "  50  52  55  56  57  58  61  62  63  64  65  67  68  70  71  72  73  74\n",
      "  75  86  89  92  97 101 103 108 110 114 115 116 117 118 120 121 123 126\n",
      " 128 129 131 134 135 136 137 140 141 142 143 144 146 147 149 150 151 152\n",
      " 153 154 160 162 163 186 199 200 202 211 212 214 215 216 217 218 221 222\n",
      " 223 224 226 227 229 230 231 232 233 246 247 248 249 254 257 261 262 264] are constant.\n",
      "  UserWarning)\n",
      "/anaconda3/lib/python3.7/site-packages/sklearn/feature_selection/univariate_selection.py:114: RuntimeWarning: invalid value encountered in true_divide\n",
      "  f = msb / msw\n"
     ]
    },
    {
     "name": "stdout",
     "output_type": "stream",
     "text": [
      "<class 'sklearn.ensemble.gradient_boosting.GradientBoostingClassifier'>\n",
      "-1\n",
      "-1\n",
      "1 is more\n",
      "<class 'sklearn.neural_network.multilayer_perceptron.MLPClassifier'>\n",
      "<class 'sklearn.neural_network.multilayer_perceptron.MLPClassifier'>\n",
      "<class 'sklearn.naive_bayes.GaussianNB'>\n",
      "<class 'sklearn.naive_bayes.GaussianNB'>\n",
      "<class 'sklearn.svm.classes.LinearSVC'>\n",
      "<class 'sklearn.svm.classes.LinearSVC'>\n",
      "<class 'sklearn.ensemble.forest.ExtraTreesClassifier'>\n",
      "<class 'sklearn.ensemble.forest.ExtraTreesClassifier'>\n",
      "<class 'sklearn.tree.tree.DecisionTreeClassifier'>\n",
      "<class 'sklearn.tree.tree.DecisionTreeClassifier'>\n",
      "<class 'sklearn.ensemble.forest.RandomForestClassifier'>\n",
      "<class 'sklearn.ensemble.weight_boosting.AdaBoostClassifier'>\n",
      "<class 'sklearn.ensemble.weight_boosting.AdaBoostClassifier'>\n",
      "<class 'sklearn.ensemble.gradient_boosting.GradientBoostingClassifier'>\n",
      "<class 'sklearn.ensemble.gradient_boosting.GradientBoostingClassifier'>\n",
      "-1\n",
      "-1\n",
      "384\n",
      "{<class 'sklearn.neural_network.multilayer_perceptron.MLPClassifier'>: 10, <class 'sklearn.naive_bayes.GaussianNB'>: 9, <class 'sklearn.svm.classes.LinearSVC'>: 10, <class 'sklearn.ensemble.forest.ExtraTreesClassifier'>: 11, <class 'sklearn.tree.tree.DecisionTreeClassifier'>: 10, <class 'sklearn.ensemble.forest.RandomForestClassifier'>: 2, <class 'sklearn.ensemble.weight_boosting.AdaBoostClassifier'>: 11, <class 'sklearn.ensemble.gradient_boosting.GradientBoostingClassifier'>: 9} freq\n",
      "[1, 1, 1, 1, 1, 0, 1, 1, 1, 1, 0, 1] new\n",
      "[1, 1, 1, 1, 1, 0, 1, 1, 1, 1, 1, 1] orig\n",
      "------------------------------------------------------------------------------------------------\n",
      "[<class 'sklearn.ensemble.forest.ExtraTreesClassifier'>, <class 'sklearn.ensemble.weight_boosting.AdaBoostClassifier'>, <class 'sklearn.neural_network.multilayer_perceptron.MLPClassifier'>, <class 'sklearn.svm.classes.LinearSVC'>, <class 'sklearn.tree.tree.DecisionTreeClassifier'>]\n",
      "{10: [<class 'sklearn.neural_network.multilayer_perceptron.MLPClassifier'>, <class 'sklearn.svm.classes.LinearSVC'>, <class 'sklearn.tree.tree.DecisionTreeClassifier'>], 9: [<class 'sklearn.naive_bayes.GaussianNB'>, <class 'sklearn.ensemble.gradient_boosting.GradientBoostingClassifier'>], 11: [<class 'sklearn.ensemble.forest.ExtraTreesClassifier'>, <class 'sklearn.ensemble.weight_boosting.AdaBoostClassifier'>], 2: [<class 'sklearn.ensemble.forest.RandomForestClassifier'>]}\n",
      "11\n",
      "0.9166666666666666\n"
     ]
    }
   ],
   "source": [
    "avg=0\n",
    "new=[]\n",
    "classifiers=classifiers=[MLPClassifier,GaussianNB,LinearSVC,ExtraTreesClassifier,DecisionTreeClassifier,RandomForestClassifier,AdaBoostClassifier,GradientBoostingClassifier]\n",
    "freq={}\n",
    "for pp in classifiers:\n",
    "    freq[pp]=0\n",
    "for i in range(len(lll)):\n",
    "    y=dfs2[lll[i]]\n",
    "    #print(lll[i])\n",
    "    X=dfs\n",
    "    mod = SelectKBest(f_classif, k=100).fit(X,y)\n",
    "    X_n=mod.transform(X)\n",
    "    X_n=pd.DataFrame(X_n)\n",
    "    #print(mod.get_support([False]))\n",
    "    pca=PCA(n_components=50)\n",
    "    mod1=pca.fit(X_n)\n",
    "    kk=mod1.explained_variance_ratio_\n",
    "\n",
    "    X_nn=mod1.transform(X_n)\n",
    "    #print(X_nn.shape)\n",
    "    #print(y.size)\n",
    "    \n",
    "\n",
    "    \n",
    "    X_train, X_test, y_train, y_test = train_test_split(X_nn, y, test_size=0.0001)\n",
    "    X_test=pd.DataFrame(d1)\n",
    "    X_test=(X_test).T\n",
    "    X_test= sc_mod.transform(X_test)\n",
    "    X_test=mod.transform(X_test)\n",
    "    X_test=pd.DataFrame(X_test)\n",
    "    \n",
    "    X_test=mod1.transform(X_test)\n",
    "    X_test=pd.DataFrame(X_test)\n",
    "    \n",
    "   \n",
    "    X_train,y_train=modify_imbalance(X_train,y_train)\n",
    "    #print(X_nn.shape)\n",
    "    #print(len(y))\n",
    "    count=0\n",
    "    maxx=-1\n",
    "    chosen=-1\n",
    "    c1=0\n",
    "    c0=0\n",
    "    for jj in y_train:\n",
    "        if(jj==1):\n",
    "            c1+=1\n",
    "        else:\n",
    "            c0+=1\n",
    "#     orig=[0,0,1,1,1,0,1,1,1,0,0,1]   \n",
    "    l=orig\n",
    "    cc=-1\n",
    "    #print(\"num of 1's\",c1)\n",
    "    #print(\"num of 0's\",c0)\n",
    "    for pp in classifiers:\n",
    "        #print(pp)\n",
    "        mlp=pp()\n",
    "        cc+=1\n",
    "        \n",
    "        #mlp=MLPClassifier()\n",
    "        #if(pp==MLPClassifier):\n",
    "        #    mlp=pp(max_iter=500)\n",
    "        #X_train,y_train=modify_imbalance(X_train,y_train)\n",
    "        cl_mod=mlp.fit(X_train,y_train)\n",
    "        y_pred=cl_mod.predict(X_test)\n",
    "        #print(y_pred)\n",
    "        if (y_pred==[1]):\n",
    "            count+=1\n",
    "        if (y_pred[0]==l[cc]):\n",
    "            print(pp)\n",
    "            freq[pp]+=1\n",
    "        '''check_precision(y_test,y_pred)'''\n",
    "        try:\n",
    "            f2_score=metrics.fbeta_score(y_test, y_pred, beta=2) \n",
    "            auc=metrics.roc_auc_score(y_test,y_pred)\n",
    "            score=(f2_score+auc)/2\n",
    "            if(score>maxx):\n",
    "                maxx=score\n",
    "                chosen=pp\n",
    "        except:\n",
    "            print(pp)\n",
    "        \n",
    "        \n",
    "    #print(avg/len(ll))\n",
    "    print(chosen)\n",
    "    print(maxx)\n",
    "    \n",
    "    \n",
    "    if (count>=6):\n",
    "        new.append(1)\n",
    "        print(lll[i])\n",
    "    else:\n",
    "        new.append(0)\n",
    "        \n",
    "print(freq,'freq')        \n",
    "print(new,'new')\n",
    "print(l,'orig')\n",
    "wq=[]\n",
    "freq1={}\n",
    "for i in freq:\n",
    "    if freq[i] not in freq1:\n",
    "        freq1[freq[i]]=[]\n",
    "        freq1[freq[i]].append(i)\n",
    "    else:\n",
    "        freq1[freq[i]].append(i)\n",
    "fre=list(freq1.keys())\n",
    "fre.sort()\n",
    "fre=list(reversed(fre))\n",
    "cou=0\n",
    "ans=[]\n",
    "for i in fre:\n",
    "    ans+=freq1[i]\n",
    "    if(len(ans)>3):\n",
    "        break\n",
    "print(\"------------------------------------------------------------------------------------------------\")\n",
    "print(ans)\n",
    "print(freq1)\n",
    "ri=0\n",
    "for q in range(len(new)):\n",
    "    if(new[q]==l[q]):\n",
    "        ri+=1\n",
    "print(ri)\n",
    "print(ri/len(new))"
   ]
  },
  {
   "cell_type": "code",
   "execution_count": 26,
   "metadata": {},
   "outputs": [
    {
     "name": "stdout",
     "output_type": "stream",
     "text": [
      "{'SKELETAL SYSTEM': ['bone ', 'joints & collagen(connective tissues)', 'teeth'], 'MUSCULAR SYSTEM': ['muscles+tendon'], 'CIRCULATORY SYSTEM': ['blood', 'blood vessels+arteries', 'heart'], 'IMMUNE SYSTEM': ['spleen+bone marrow+lymph nodes+tonsils+misc_immune'], 'DIGESTIVE SYSTEM': ['brain+spinal cord', 'liver', 'mouth+salivary gland+throat', 'oesophagus+stomach+small intestine+large intestine+gastrointestinal trac', 'pancreas', 'rectum+anus'], 'ENDOCRINE SYSTEM': ['thyroid+adrenal+pituitary gland+parathyroids'], 'NERVOUS SYSTEM': ['brain+spinal cord', 'ears', 'eyes', 'motor', 'neurological+misc_neurological', 'nose', 'psychiatric', 'tongue'], 'RESPIRATORY SYSTEM': ['lungs+bronchi+misc_respiratory'], 'EXCRETORY SYSTEM': ['kidneys+urinary bladder+gall bladder+prostate gland+urethra+misc_excretory'], 'Female Reproductive System': ['breast', 'genitalia+testis & penis+misc_reproductive_male', 'genitalia+vagina+uterus+ovaries+misc_reproductive_female '], 'Male Reproductive System': ['genitalia+testis & penis+misc_reproductive_male', 'genitalia+vagina+uterus+ovaries+misc_reproductive_female '], 'INTEGUMENTRAY SYSTEM': ['hair', 'nails', 'skin+subcutaneous fat']}\n"
     ]
    }
   ],
   "source": [
    "dfs=pd.read_excel('/Users/adityaankush/Desktop/mod_data/sys_sub_sys_1.xlsx')#,sheet_name=None)\n",
    "dic={}\n",
    "l=list(dfs.columns)\n",
    "for i in l:\n",
    "    d=dfs[i]\n",
    "    d=pd.DataFrame(d)\n",
    "    d=d.dropna()\n",
    "    dd=d[i]\n",
    "    dd=dd.tolist()\n",
    "    dic[i]=dd\n",
    "print(dic)"
   ]
  },
  {
   "cell_type": "code",
   "execution_count": 27,
   "metadata": {},
   "outputs": [
    {
     "name": "stdout",
     "output_type": "stream",
     "text": [
      "['SKELETAL SYSTEM', 'MUSCULAR SYSTEM', 'CIRCULATORY SYSTEM', 'IMMUNE SYSTEM', 'DIGESTIVE SYSTEM', 'NERVOUS SYSTEM', 'RESPIRATORY SYSTEM', 'EXCRETORY SYSTEM', 'Female Reproductive System', 'INTEGUMENTRAY SYSTEM']\n"
     ]
    }
   ],
   "source": [
    "liss=[]\n",
    "for i in range(len(new)):\n",
    "    if (new[i]==1):\n",
    "        x=cols[i]\n",
    "        liss.append(x)\n",
    "print(liss)        \n",
    "        "
   ]
  },
  {
   "cell_type": "code",
   "execution_count": 28,
   "metadata": {},
   "outputs": [
    {
     "name": "stdout",
     "output_type": "stream",
     "text": [
      "['SKELETAL SYSTEM', 'MUSCULAR SYSTEM', 'CIRCULATORY SYSTEM', 'IMMUNE SYSTEM', 'DIGESTIVE SYSTEM', 'NERVOUS SYSTEM', 'RESPIRATORY SYSTEM', 'EXCRETORY SYSTEM', 'Female Reproductive System', 'Male Reproductive System', 'INTEGUMENTRAY SYSTEM']\n"
     ]
    }
   ],
   "source": [
    "liss=[]\n",
    "for i in range(len(orig)):\n",
    "    if (orig[i]==1):\n",
    "        x=cols[i]\n",
    "        liss.append(x)\n",
    "print(liss)        "
   ]
  },
  {
   "cell_type": "code",
   "execution_count": null,
   "metadata": {},
   "outputs": [],
   "source": []
  }
 ],
 "metadata": {
  "kernelspec": {
   "display_name": "Python 3",
   "language": "python",
   "name": "python3"
  },
  "language_info": {
   "codemirror_mode": {
    "name": "ipython",
    "version": 3
   },
   "file_extension": ".py",
   "mimetype": "text/x-python",
   "name": "python",
   "nbconvert_exporter": "python",
   "pygments_lexer": "ipython3",
   "version": "3.7.0"
  }
 },
 "nbformat": 4,
 "nbformat_minor": 2
}
