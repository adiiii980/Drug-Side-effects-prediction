{
 "cells": [
  {
   "cell_type": "code",
   "execution_count": 12,
   "metadata": {},
   "outputs": [],
   "source": [
    "import pandas as pd\n",
    "import numpy as np\n",
    "import random\n",
    "from sklearn.decomposition import PCA\n",
    "from sklearn.preprocessing import StandardScaler\n",
    "from sklearn.feature_selection import SelectKBest\n",
    "from sklearn.naive_bayes import GaussianNB\n",
    "from sklearn.feature_selection import RFE\n",
    "from sklearn.svm import LinearSVC\n",
    "from sklearn.neural_network import MLPClassifier\n",
    "from sklearn.model_selection import train_test_split\n",
    "from sklearn import metrics\n",
    "from sklearn.ensemble import ExtraTreesClassifier\n",
    "from sklearn.tree import DecisionTreeClassifier\n",
    "from sklearn.ensemble import RandomForestClassifier\n",
    "from sklearn.ensemble import AdaBoostClassifier\n",
    "from sklearn.ensemble import GradientBoostingClassifier\n",
    "from sklearn.feature_selection import f_classif\n",
    "\n",
    "#dfs2=pd.read_excel('/home/shiloni/7sem/AI/AI final/mod_data/system_level.xlsx')#,sheet_name=None)"
   ]
  },
  {
   "cell_type": "code",
   "execution_count": 13,
   "metadata": {},
   "outputs": [],
   "source": [
    "dfs2=pd.read_excel('/Users/adityaankush/Desktop/mod_data/subsystem_cleaned.xlsx')#,sheet_name=None)\n",
    "dfs2=dfs2.dropna()\n",
    "\n",
    "#dfs2.shape"
   ]
  },
  {
   "cell_type": "code",
   "execution_count": 14,
   "metadata": {},
   "outputs": [
    {
     "data": {
      "text/plain": [
       "(1173, 403)"
      ]
     },
     "execution_count": 14,
     "metadata": {},
     "output_type": "execute_result"
    }
   ],
   "source": [
    "dfs2.shape # now dfs2 is without vasopressin"
   ]
  },
  {
   "cell_type": "code",
   "execution_count": 15,
   "metadata": {},
   "outputs": [
    {
     "name": "stdout",
     "output_type": "stream",
     "text": [
      "[0, 1, 0, 1, 0, 1, 0, 0, 0, 1, 0, 0, 0, 0, 1, 1, 1, 0, 1, 0, 0, 0, 0, 1, 0, 0, 0, 1, 0, 0]\n",
      "[0, 2, 1, 0, 0, 0, 3, 0, 0, 0, 0, 0, 0, 0, 0, 2, 0, 1, 0, 0, 3, 0, 0, 0, 0, 0, 2, 0, 0, 0, 0, 0, 0, 0, 1, 0, 0, 0, 0, 0, 1, 0, 0, 0, 0, 0, 0, 0, 0, 0, 0, 0, 0, 0, 0, 0, 0, 0, 0, 1, 0, 0, 0, 0, 0, 0, 0, 0, 0, 0, 0, 0, 0, 0, 0, 0, 0, 0, 0, 0.0, 3.327, 4.277, 0.0, 0.0, 0.0, 1.668, 0, 0.0, 0.0, 0, 0.0, 0.0, 0, 0.0, 22.881, 0.0, 1.346, 0, 0.0, -1.908, 0.0, 0, 0.0, 0, 0.0, 3.702, 0.0, 0.0, 0, 0.0, 0, 0.0, 0.0, 8.965, 0, 0, 0, 0, 0, 0.562, 0, 0, 0.0, 0, 0.0, 0.0, 0, 0.0, 0, 0, 0.0, 0, 0.0, 0.0, 0, 0, 0, 0, 1.673, 0.0, 0, 0, 0, 0, 0, 0.0, 0, 0, 0.0, 0, 0, 0, 0, 0, 0, 0.0, 0.0, 0.0, 0, 9168.86, 3, 0, True, 0, 0.088, 232.085, -2.221, 0.77503, 0.63972, 0.81675, 0.82734, 0.72615, 0.98659, 0.66182, 0.941, 0.87038, 0.80006, 0.242969, 0.155947, 0.641885, 255.818, 3, 0, 5, 3, 9, 0, 6, 1, 17, 17, 0, 0, 18, 0, 0, 4, 5, 1, 0, 0, 6, 0, 17, 18, 0, 1, 5, 5, 1, 1, 0, 0, 12, 0, 0, 0, 0, 0, 0, 0, 0, 0, 0, 0, 0, 0, 0, 0, 0, 0, 0, 0, 0, 1, 11, 1, 2, 0, 0, 0, 2, 0, 0, 0, 2, 0, 0, 0, 0, 12, 0, 0, 1, 0, 1, 0, 0, 0, 0, 0, 0, 0, 0, 0, 17, 0.286, 0.29, 115.182, 70.5, 401.402, 355.771, 242.39, 0.81451, 12.577, 8.04091, 7.41695, 1.38937, 0.0, 6.12906, 9.59729, 5.28356, 3.78686, 0.51139, 0.0, 2.63169, 0.35294, 205.899, 296.423, 854.844, 2621.13, 1.65818, 48.0874, 3.73452, 2.50426, 2.63147, 13.4321, 11.4747, 5.32544, 4.1018, 2.55999, 1.84795, 2.76864, 17, 18, 26, 7, 0, 35, 0.91365, 156.739, 186.117, 827.915, 2286.67, 470, 88, 2.44687, 0.779, -2.31956, 5e-05, 154.731, 659.168, 50.1769, 0.3226, -0.4876, -0.06762, 0.67739, 1.02383, 0.04743, 140.696, -212.652, -29.4875, 295.427, 446.516, 20.6894, 0.67298, 0.21683, 5.80819, 0.19521, 1.98027, 0.32701, 436.122, 293.505, 142.618, 61.3606, -92.7422, -12.8602, 128.842, 194.736, 9.02311, 1.2699, 23.36, 5.0, 3.45724, 18.36, 437.203, 108.276, 241.387, 348.073, 3.05209, 12.7587, 74.0764, 0.56954, 39.3664, 0.73809, 10.194, 30.9161, 0.72549, 4.1803, 123.229, 415.447, 383.344, 181.1]\n",
      "30\n"
     ]
    },
    {
     "name": "stderr",
     "output_type": "stream",
     "text": [
      "/anaconda3/lib/python3.7/site-packages/ipykernel_launcher.py:1: FutureWarning: Method .as_matrix will be removed in a future version. Use .values instead.\n",
      "  \"\"\"Entry point for launching an IPython kernel.\n"
     ]
    }
   ],
   "source": [
    "d=dfs2.as_matrix()\n",
    "d1=d[436] # vasopressin in Sys_cleaned\n",
    "d1=d1.tolist()\n",
    "orig=[]\n",
    "orig=d1[373:]\n",
    "print(orig)\n",
    "for i in range(30):\n",
    "    d1.pop()\n",
    "print(d1)\n",
    "print(len(orig))"
   ]
  },
  {
   "cell_type": "code",
   "execution_count": 16,
   "metadata": {},
   "outputs": [],
   "source": [
    "d=d.tolist()"
   ]
  },
  {
   "cell_type": "code",
   "execution_count": 17,
   "metadata": {},
   "outputs": [
    {
     "data": {
      "text/plain": [
       "(1172, 403)"
      ]
     },
     "execution_count": 17,
     "metadata": {},
     "output_type": "execute_result"
    }
   ],
   "source": [
    "d.pop(436)\n",
    "dfs2=pd.DataFrame(d)\n",
    "dfs2.shape"
   ]
  },
  {
   "cell_type": "code",
   "execution_count": 18,
   "metadata": {},
   "outputs": [
    {
     "name": "stdout",
     "output_type": "stream",
     "text": [
      "403\n",
      "[373, 374, 375, 376, 377, 378, 379, 380, 381, 382, 383, 384, 385, 386, 387, 388, 389, 390, 391, 392, 393, 394, 395, 396, 397, 398, 399, 400, 401, 402]\n",
      "[373, 374, 375, 376, 377, 378, 379, 380, 381, 382, 383, 384, 385, 386, 387, 388, 389, 390, 391, 392, 393, 394, 395, 396, 397, 398, 399, 400, 401, 402]\n",
      "(1172, 403)\n"
     ]
    }
   ],
   "source": [
    "l=list(dfs2.columns)\n",
    "print(len(l))\n",
    "ll=[i for i in range(len(l))]\n",
    "ll=ll[-30:]\n",
    "print(ll)\n",
    "lll=[]\n",
    "for i in ll:\n",
    "    lll.append(l[i])\n",
    "print(lll)\n",
    "print(dfs2.shape)"
   ]
  },
  {
   "cell_type": "code",
   "execution_count": 19,
   "metadata": {},
   "outputs": [
    {
     "name": "stdout",
     "output_type": "stream",
     "text": [
      "(1172, 373)\n"
     ]
    },
    {
     "name": "stderr",
     "output_type": "stream",
     "text": [
      "/anaconda3/lib/python3.7/site-packages/pandas/core/indexes/base.py:2095: FutureWarning: Using a non-tuple sequence for multidimensional indexing is deprecated; use `arr[tuple(seq)]` instead of `arr[seq]`. In the future this will be interpreted as an array index, `arr[np.array(seq)]`, which will result either in an error or a different result.\n",
      "  result = getitem(key)\n"
     ]
    }
   ],
   "source": [
    "dfs=dfs2.drop(dfs2.columns[[ll]],axis=1)\n",
    "print(dfs.shape)\n",
    "scaler = StandardScaler()\n",
    "sc_mod=scaler.fit(dfs)\n",
    "dfs=sc_mod.transform(dfs)"
   ]
  },
  {
   "cell_type": "code",
   "execution_count": 20,
   "metadata": {},
   "outputs": [],
   "source": [
    "def check_precision(y_test,y_pred):\n",
    "    from sklearn.metrics import classification_report, confusion_matrix  \n",
    "    print(confusion_matrix(y_test,y_pred))  \n",
    "    #print(classification_report(y_test,y_pred))"
   ]
  },
  {
   "cell_type": "code",
   "execution_count": 21,
   "metadata": {},
   "outputs": [],
   "source": [
    "def modify_imbalance(X,y):\n",
    "    #x=X.as_matrix()\n",
    "    x=X.tolist()\n",
    "    y=y.tolist()\n",
    "    count=-1\n",
    "    n1=[]\n",
    "    n2=[]\n",
    "    for i in y:\n",
    "        count+=0\n",
    "        if(i==1):\n",
    "            n1.append(x[count])\n",
    "        else:\n",
    "            n2.append(x[count])\n",
    "    if(len(n1)>len(n2)):\n",
    "        print(\"1 is more\")\n",
    "        diff=len(n1)-len(n2)\n",
    "        i=0\n",
    "        while(diff>0 and len(n2)>0):\n",
    "            x.append(n2[random.randint(0,len(n2)-1)])\n",
    "            y.append(0)\n",
    "            #n2.pop()\n",
    "            diff=diff-1\n",
    "    elif(len(n1)<len(n2)):\n",
    "        print(\"0 is more\")\n",
    "        diff=len(n2)-len(n1)\n",
    "        i=0\n",
    "        while(diff>0 and len(n1)>0):\n",
    "            x.append(n1[random.randint(0,len(n1)-1)])\n",
    "            y.append(1)\n",
    "            #n1.pop()\n",
    "            diff=diff-1\n",
    "    x=pd.DataFrame(x)\n",
    "    y=pd.Series(y)\n",
    "    return(x,y)\n",
    "    \n",
    "            "
   ]
  },
  {
   "cell_type": "code",
   "execution_count": 22,
   "metadata": {},
   "outputs": [
    {
     "name": "stderr",
     "output_type": "stream",
     "text": [
      "/anaconda3/lib/python3.7/site-packages/sklearn/feature_selection/univariate_selection.py:113: UserWarning: Features [  7  10  13  18  22  24  29  31  35  36  37  38  39  41  42  44  47  49\n",
      "  50  52  55  56  57  58  61  62  63  64  65  67  68  70  71  72  73  74\n",
      "  75  86  89  92  97 101 103 108 110 114 115 116 117 118 120 121 123 126\n",
      " 128 129 131 134 135 136 137 140 141 142 143 144 146 147 149 150 151 152\n",
      " 153 154 160 162 163 186 199 200 202 211 212 214 215 216 217 218 221 222\n",
      " 223 224 226 227 229 230 231 232 233 246 247 248 249 254 257 261 262 264] are constant.\n",
      "  UserWarning)\n",
      "/anaconda3/lib/python3.7/site-packages/sklearn/feature_selection/univariate_selection.py:114: RuntimeWarning: invalid value encountered in true_divide\n",
      "  f = msb / msw\n"
     ]
    },
    {
     "name": "stdout",
     "output_type": "stream",
     "text": [
      "0 is more\n",
      "<class 'sklearn.neural_network.multilayer_perceptron.MLPClassifier'>\n",
      "<class 'sklearn.neural_network.multilayer_perceptron.MLPClassifier'>\n",
      "<class 'sklearn.naive_bayes.GaussianNB'>\n"
     ]
    },
    {
     "name": "stderr",
     "output_type": "stream",
     "text": [
      "/anaconda3/lib/python3.7/site-packages/sklearn/metrics/classification.py:1135: UndefinedMetricWarning: F-score is ill-defined and being set to 0.0 due to no predicted samples.\n",
      "  'precision', 'predicted', average, warn_for)\n"
     ]
    },
    {
     "name": "stdout",
     "output_type": "stream",
     "text": [
      "<class 'sklearn.svm.classes.LinearSVC'>\n",
      "<class 'sklearn.svm.classes.LinearSVC'>\n",
      "<class 'sklearn.ensemble.forest.ExtraTreesClassifier'>\n",
      "<class 'sklearn.tree.tree.DecisionTreeClassifier'>\n",
      "<class 'sklearn.tree.tree.DecisionTreeClassifier'>\n",
      "<class 'sklearn.ensemble.forest.RandomForestClassifier'>\n"
     ]
    },
    {
     "name": "stderr",
     "output_type": "stream",
     "text": [
      "/anaconda3/lib/python3.7/site-packages/sklearn/metrics/classification.py:1135: UndefinedMetricWarning: F-score is ill-defined and being set to 0.0 due to no predicted samples.\n",
      "  'precision', 'predicted', average, warn_for)\n",
      "/anaconda3/lib/python3.7/site-packages/sklearn/metrics/classification.py:1135: UndefinedMetricWarning: F-score is ill-defined and being set to 0.0 due to no predicted samples.\n",
      "  'precision', 'predicted', average, warn_for)\n"
     ]
    },
    {
     "name": "stdout",
     "output_type": "stream",
     "text": [
      "<class 'sklearn.ensemble.weight_boosting.AdaBoostClassifier'>\n",
      "<class 'sklearn.ensemble.weight_boosting.AdaBoostClassifier'>\n"
     ]
    },
    {
     "name": "stderr",
     "output_type": "stream",
     "text": [
      "/anaconda3/lib/python3.7/site-packages/sklearn/metrics/classification.py:1135: UndefinedMetricWarning: F-score is ill-defined and being set to 0.0 due to no predicted samples.\n",
      "  'precision', 'predicted', average, warn_for)\n"
     ]
    },
    {
     "name": "stdout",
     "output_type": "stream",
     "text": [
      "<class 'sklearn.ensemble.gradient_boosting.GradientBoostingClassifier'>\n",
      "<class 'sklearn.ensemble.gradient_boosting.GradientBoostingClassifier'>\n",
      "=====================\n",
      "-1\n",
      "-1\n",
      "1 is more\n"
     ]
    },
    {
     "name": "stderr",
     "output_type": "stream",
     "text": [
      "/anaconda3/lib/python3.7/site-packages/sklearn/feature_selection/univariate_selection.py:113: UserWarning: Features [  7  10  13  18  22  24  29  31  35  36  37  38  39  41  42  44  47  49\n",
      "  50  52  55  56  57  58  61  62  63  64  65  67  68  70  71  72  73  74\n",
      "  75  86  89  92  97 101 103 108 110 114 115 116 117 118 120 121 123 126\n",
      " 128 129 131 134 135 136 137 140 141 142 143 144 146 147 149 150 151 152\n",
      " 153 154 160 162 163 186 199 200 202 211 212 214 215 216 217 218 221 222\n",
      " 223 224 226 227 229 230 231 232 233 246 247 248 249 254 257 261 262 264] are constant.\n",
      "  UserWarning)\n",
      "/anaconda3/lib/python3.7/site-packages/sklearn/feature_selection/univariate_selection.py:114: RuntimeWarning: invalid value encountered in true_divide\n",
      "  f = msb / msw\n",
      "/anaconda3/lib/python3.7/site-packages/sklearn/neural_network/multilayer_perceptron.py:564: ConvergenceWarning: Stochastic Optimizer: Maximum iterations (200) reached and the optimization hasn't converged yet.\n",
      "  % self.max_iter, ConvergenceWarning)\n"
     ]
    },
    {
     "name": "stdout",
     "output_type": "stream",
     "text": [
      "<class 'sklearn.neural_network.multilayer_perceptron.MLPClassifier'>\n",
      "<class 'sklearn.neural_network.multilayer_perceptron.MLPClassifier'>\n",
      "<class 'sklearn.naive_bayes.GaussianNB'>\n",
      "<class 'sklearn.svm.classes.LinearSVC'>\n",
      "<class 'sklearn.ensemble.forest.ExtraTreesClassifier'>\n",
      "<class 'sklearn.tree.tree.DecisionTreeClassifier'>\n",
      "<class 'sklearn.tree.tree.DecisionTreeClassifier'>\n",
      "<class 'sklearn.ensemble.forest.RandomForestClassifier'>\n",
      "<class 'sklearn.ensemble.forest.RandomForestClassifier'>\n"
     ]
    },
    {
     "name": "stderr",
     "output_type": "stream",
     "text": [
      "/anaconda3/lib/python3.7/site-packages/sklearn/metrics/classification.py:1135: UndefinedMetricWarning: F-score is ill-defined and being set to 0.0 due to no predicted samples.\n",
      "  'precision', 'predicted', average, warn_for)\n"
     ]
    },
    {
     "name": "stdout",
     "output_type": "stream",
     "text": [
      "<class 'sklearn.ensemble.weight_boosting.AdaBoostClassifier'>\n",
      "<class 'sklearn.ensemble.weight_boosting.AdaBoostClassifier'>\n"
     ]
    },
    {
     "name": "stderr",
     "output_type": "stream",
     "text": [
      "/anaconda3/lib/python3.7/site-packages/sklearn/metrics/classification.py:1135: UndefinedMetricWarning: F-score is ill-defined and being set to 0.0 due to no predicted samples.\n",
      "  'precision', 'predicted', average, warn_for)\n"
     ]
    },
    {
     "name": "stdout",
     "output_type": "stream",
     "text": [
      "<class 'sklearn.ensemble.gradient_boosting.GradientBoostingClassifier'>\n",
      "<class 'sklearn.ensemble.gradient_boosting.GradientBoostingClassifier'>\n",
      "=====================\n",
      "-1\n",
      "-1\n",
      "0 is more\n"
     ]
    },
    {
     "name": "stderr",
     "output_type": "stream",
     "text": [
      "/anaconda3/lib/python3.7/site-packages/sklearn/feature_selection/univariate_selection.py:113: UserWarning: Features [  7  10  13  18  22  24  29  31  35  36  37  38  39  41  42  44  47  49\n",
      "  50  52  55  56  57  58  61  62  63  64  65  67  68  70  71  72  73  74\n",
      "  75  86  89  92  97 101 103 108 110 114 115 116 117 118 120 121 123 126\n",
      " 128 129 131 134 135 136 137 140 141 142 143 144 146 147 149 150 151 152\n",
      " 153 154 160 162 163 186 199 200 202 211 212 214 215 216 217 218 221 222\n",
      " 223 224 226 227 229 230 231 232 233 246 247 248 249 254 257 261 262 264] are constant.\n",
      "  UserWarning)\n",
      "/anaconda3/lib/python3.7/site-packages/sklearn/feature_selection/univariate_selection.py:114: RuntimeWarning: invalid value encountered in true_divide\n",
      "  f = msb / msw\n",
      "/anaconda3/lib/python3.7/site-packages/sklearn/neural_network/multilayer_perceptron.py:564: ConvergenceWarning: Stochastic Optimizer: Maximum iterations (200) reached and the optimization hasn't converged yet.\n",
      "  % self.max_iter, ConvergenceWarning)\n",
      "/anaconda3/lib/python3.7/site-packages/sklearn/metrics/classification.py:1137: UndefinedMetricWarning: F-score is ill-defined and being set to 0.0 due to no true samples.\n",
      "  'recall', 'true', average, warn_for)\n"
     ]
    },
    {
     "name": "stdout",
     "output_type": "stream",
     "text": [
      "<class 'sklearn.neural_network.multilayer_perceptron.MLPClassifier'>\n",
      "<class 'sklearn.neural_network.multilayer_perceptron.MLPClassifier'>\n",
      "<class 'sklearn.naive_bayes.GaussianNB'>\n",
      "<class 'sklearn.naive_bayes.GaussianNB'>\n",
      "<class 'sklearn.svm.classes.LinearSVC'>\n",
      "<class 'sklearn.svm.classes.LinearSVC'>\n",
      "<class 'sklearn.ensemble.forest.ExtraTreesClassifier'>\n",
      "<class 'sklearn.tree.tree.DecisionTreeClassifier'>\n",
      "<class 'sklearn.tree.tree.DecisionTreeClassifier'>\n",
      "<class 'sklearn.ensemble.forest.RandomForestClassifier'>\n",
      "<class 'sklearn.ensemble.weight_boosting.AdaBoostClassifier'>\n",
      "<class 'sklearn.ensemble.weight_boosting.AdaBoostClassifier'>\n",
      "<class 'sklearn.ensemble.gradient_boosting.GradientBoostingClassifier'>\n",
      "<class 'sklearn.ensemble.gradient_boosting.GradientBoostingClassifier'>\n",
      "=====================\n",
      "-1\n",
      "-1\n",
      "1 is more\n"
     ]
    },
    {
     "name": "stderr",
     "output_type": "stream",
     "text": [
      "/anaconda3/lib/python3.7/site-packages/sklearn/feature_selection/univariate_selection.py:113: UserWarning: Features [  7  10  13  18  22  24  29  31  35  36  37  38  39  41  42  44  47  49\n",
      "  50  52  55  56  57  58  61  62  63  64  65  67  68  70  71  72  73  74\n",
      "  75  86  89  92  97 101 103 108 110 114 115 116 117 118 120 121 123 126\n",
      " 128 129 131 134 135 136 137 140 141 142 143 144 146 147 149 150 151 152\n",
      " 153 154 160 162 163 186 199 200 202 211 212 214 215 216 217 218 221 222\n",
      " 223 224 226 227 229 230 231 232 233 246 247 248 249 254 257 261 262 264] are constant.\n",
      "  UserWarning)\n",
      "/anaconda3/lib/python3.7/site-packages/sklearn/feature_selection/univariate_selection.py:114: RuntimeWarning: invalid value encountered in true_divide\n",
      "  f = msb / msw\n",
      "/anaconda3/lib/python3.7/site-packages/sklearn/neural_network/multilayer_perceptron.py:564: ConvergenceWarning: Stochastic Optimizer: Maximum iterations (200) reached and the optimization hasn't converged yet.\n",
      "  % self.max_iter, ConvergenceWarning)\n",
      "/anaconda3/lib/python3.7/site-packages/sklearn/metrics/classification.py:1137: UndefinedMetricWarning: F-score is ill-defined and being set to 0.0 due to no true samples.\n",
      "  'recall', 'true', average, warn_for)\n"
     ]
    },
    {
     "name": "stdout",
     "output_type": "stream",
     "text": [
      "<class 'sklearn.neural_network.multilayer_perceptron.MLPClassifier'>\n",
      "<class 'sklearn.neural_network.multilayer_perceptron.MLPClassifier'>\n",
      "<class 'sklearn.naive_bayes.GaussianNB'>\n",
      "<class 'sklearn.naive_bayes.GaussianNB'>\n",
      "<class 'sklearn.svm.classes.LinearSVC'>\n",
      "<class 'sklearn.ensemble.forest.ExtraTreesClassifier'>\n",
      "<class 'sklearn.ensemble.forest.ExtraTreesClassifier'>\n",
      "<class 'sklearn.tree.tree.DecisionTreeClassifier'>\n"
     ]
    },
    {
     "name": "stderr",
     "output_type": "stream",
     "text": [
      "/anaconda3/lib/python3.7/site-packages/sklearn/metrics/classification.py:1137: UndefinedMetricWarning: F-score is ill-defined and being set to 0.0 due to no true samples.\n",
      "  'recall', 'true', average, warn_for)\n",
      "/anaconda3/lib/python3.7/site-packages/sklearn/metrics/classification.py:1137: UndefinedMetricWarning: F-score is ill-defined and being set to 0.0 due to no true samples.\n",
      "  'recall', 'true', average, warn_for)\n"
     ]
    },
    {
     "name": "stdout",
     "output_type": "stream",
     "text": [
      "<class 'sklearn.ensemble.forest.RandomForestClassifier'>\n",
      "<class 'sklearn.ensemble.forest.RandomForestClassifier'>\n"
     ]
    },
    {
     "name": "stderr",
     "output_type": "stream",
     "text": [
      "/anaconda3/lib/python3.7/site-packages/sklearn/metrics/classification.py:1137: UndefinedMetricWarning: F-score is ill-defined and being set to 0.0 due to no true samples.\n",
      "  'recall', 'true', average, warn_for)\n"
     ]
    },
    {
     "name": "stdout",
     "output_type": "stream",
     "text": [
      "<class 'sklearn.ensemble.weight_boosting.AdaBoostClassifier'>\n",
      "<class 'sklearn.ensemble.gradient_boosting.GradientBoostingClassifier'>\n",
      "=====================\n",
      "-1\n",
      "-1\n",
      "376\n",
      "1 is more\n"
     ]
    },
    {
     "name": "stderr",
     "output_type": "stream",
     "text": [
      "/anaconda3/lib/python3.7/site-packages/sklearn/feature_selection/univariate_selection.py:113: UserWarning: Features [  7  10  13  18  22  24  29  31  35  36  37  38  39  41  42  44  47  49\n",
      "  50  52  55  56  57  58  61  62  63  64  65  67  68  70  71  72  73  74\n",
      "  75  86  89  92  97 101 103 108 110 114 115 116 117 118 120 121 123 126\n",
      " 128 129 131 134 135 136 137 140 141 142 143 144 146 147 149 150 151 152\n",
      " 153 154 160 162 163 186 199 200 202 211 212 214 215 216 217 218 221 222\n",
      " 223 224 226 227 229 230 231 232 233 246 247 248 249 254 257 261 262 264] are constant.\n",
      "  UserWarning)\n",
      "/anaconda3/lib/python3.7/site-packages/sklearn/feature_selection/univariate_selection.py:114: RuntimeWarning: invalid value encountered in true_divide\n",
      "  f = msb / msw\n",
      "/anaconda3/lib/python3.7/site-packages/sklearn/neural_network/multilayer_perceptron.py:564: ConvergenceWarning: Stochastic Optimizer: Maximum iterations (200) reached and the optimization hasn't converged yet.\n",
      "  % self.max_iter, ConvergenceWarning)\n"
     ]
    },
    {
     "name": "stdout",
     "output_type": "stream",
     "text": [
      "<class 'sklearn.neural_network.multilayer_perceptron.MLPClassifier'>\n",
      "<class 'sklearn.neural_network.multilayer_perceptron.MLPClassifier'>\n",
      "<class 'sklearn.naive_bayes.GaussianNB'>\n",
      "<class 'sklearn.naive_bayes.GaussianNB'>\n",
      "<class 'sklearn.svm.classes.LinearSVC'>\n",
      "<class 'sklearn.ensemble.forest.ExtraTreesClassifier'>\n",
      "<class 'sklearn.ensemble.forest.ExtraTreesClassifier'>\n",
      "<class 'sklearn.tree.tree.DecisionTreeClassifier'>\n",
      "<class 'sklearn.tree.tree.DecisionTreeClassifier'>\n"
     ]
    },
    {
     "name": "stderr",
     "output_type": "stream",
     "text": [
      "/anaconda3/lib/python3.7/site-packages/sklearn/metrics/classification.py:1137: UndefinedMetricWarning: F-score is ill-defined and being set to 0.0 due to no true samples.\n",
      "  'recall', 'true', average, warn_for)\n"
     ]
    },
    {
     "name": "stdout",
     "output_type": "stream",
     "text": [
      "<class 'sklearn.ensemble.forest.RandomForestClassifier'>\n"
     ]
    },
    {
     "name": "stderr",
     "output_type": "stream",
     "text": [
      "/anaconda3/lib/python3.7/site-packages/sklearn/metrics/classification.py:1137: UndefinedMetricWarning: F-score is ill-defined and being set to 0.0 due to no true samples.\n",
      "  'recall', 'true', average, warn_for)\n"
     ]
    },
    {
     "name": "stdout",
     "output_type": "stream",
     "text": [
      "<class 'sklearn.ensemble.weight_boosting.AdaBoostClassifier'>\n",
      "<class 'sklearn.ensemble.gradient_boosting.GradientBoostingClassifier'>\n",
      "=====================\n",
      "-1\n",
      "-1\n",
      "1 is more\n"
     ]
    },
    {
     "name": "stderr",
     "output_type": "stream",
     "text": [
      "/anaconda3/lib/python3.7/site-packages/sklearn/feature_selection/univariate_selection.py:113: UserWarning: Features [  7  10  13  18  22  24  29  31  35  36  37  38  39  41  42  44  47  49\n",
      "  50  52  55  56  57  58  61  62  63  64  65  67  68  70  71  72  73  74\n",
      "  75  86  89  92  97 101 103 108 110 114 115 116 117 118 120 121 123 126\n",
      " 128 129 131 134 135 136 137 140 141 142 143 144 146 147 149 150 151 152\n",
      " 153 154 160 162 163 186 199 200 202 211 212 214 215 216 217 218 221 222\n",
      " 223 224 226 227 229 230 231 232 233 246 247 248 249 254 257 261 262 264] are constant.\n",
      "  UserWarning)\n",
      "/anaconda3/lib/python3.7/site-packages/sklearn/feature_selection/univariate_selection.py:114: RuntimeWarning: invalid value encountered in true_divide\n",
      "  f = msb / msw\n",
      "/anaconda3/lib/python3.7/site-packages/sklearn/neural_network/multilayer_perceptron.py:564: ConvergenceWarning: Stochastic Optimizer: Maximum iterations (200) reached and the optimization hasn't converged yet.\n",
      "  % self.max_iter, ConvergenceWarning)\n"
     ]
    },
    {
     "name": "stdout",
     "output_type": "stream",
     "text": [
      "<class 'sklearn.neural_network.multilayer_perceptron.MLPClassifier'>\n",
      "<class 'sklearn.naive_bayes.GaussianNB'>\n",
      "<class 'sklearn.naive_bayes.GaussianNB'>\n",
      "<class 'sklearn.svm.classes.LinearSVC'>\n",
      "<class 'sklearn.ensemble.forest.ExtraTreesClassifier'>\n",
      "<class 'sklearn.ensemble.forest.ExtraTreesClassifier'>\n",
      "<class 'sklearn.tree.tree.DecisionTreeClassifier'>\n",
      "<class 'sklearn.ensemble.forest.RandomForestClassifier'>\n",
      "<class 'sklearn.ensemble.forest.RandomForestClassifier'>\n",
      "<class 'sklearn.ensemble.weight_boosting.AdaBoostClassifier'>\n",
      "<class 'sklearn.ensemble.gradient_boosting.GradientBoostingClassifier'>\n",
      "=====================\n",
      "-1\n",
      "-1\n",
      "378\n",
      "1 is more\n"
     ]
    },
    {
     "name": "stderr",
     "output_type": "stream",
     "text": [
      "/anaconda3/lib/python3.7/site-packages/sklearn/feature_selection/univariate_selection.py:113: UserWarning: Features [  7  10  13  18  22  24  29  31  35  36  37  38  39  41  42  44  47  49\n",
      "  50  52  55  56  57  58  61  62  63  64  65  67  68  70  71  72  73  74\n",
      "  75  86  89  92  97 101 103 108 110 114 115 116 117 118 120 121 123 126\n",
      " 128 129 131 134 135 136 137 140 141 142 143 144 146 147 149 150 151 152\n",
      " 153 154 160 162 163 186 199 200 202 211 212 214 215 216 217 218 221 222\n",
      " 223 224 226 227 229 230 231 232 233 246 247 248 249 254 257 261 262 264] are constant.\n",
      "  UserWarning)\n",
      "/anaconda3/lib/python3.7/site-packages/sklearn/feature_selection/univariate_selection.py:114: RuntimeWarning: invalid value encountered in true_divide\n",
      "  f = msb / msw\n",
      "/anaconda3/lib/python3.7/site-packages/sklearn/neural_network/multilayer_perceptron.py:564: ConvergenceWarning: Stochastic Optimizer: Maximum iterations (200) reached and the optimization hasn't converged yet.\n",
      "  % self.max_iter, ConvergenceWarning)\n",
      "/anaconda3/lib/python3.7/site-packages/sklearn/metrics/classification.py:1135: UndefinedMetricWarning: F-score is ill-defined and being set to 0.0 due to no predicted samples.\n",
      "  'precision', 'predicted', average, warn_for)\n"
     ]
    },
    {
     "name": "stdout",
     "output_type": "stream",
     "text": [
      "<class 'sklearn.neural_network.multilayer_perceptron.MLPClassifier'>\n",
      "<class 'sklearn.neural_network.multilayer_perceptron.MLPClassifier'>\n",
      "<class 'sklearn.naive_bayes.GaussianNB'>\n",
      "<class 'sklearn.naive_bayes.GaussianNB'>\n",
      "<class 'sklearn.svm.classes.LinearSVC'>\n",
      "<class 'sklearn.ensemble.forest.ExtraTreesClassifier'>\n",
      "<class 'sklearn.tree.tree.DecisionTreeClassifier'>\n"
     ]
    },
    {
     "name": "stderr",
     "output_type": "stream",
     "text": [
      "/anaconda3/lib/python3.7/site-packages/sklearn/metrics/classification.py:1135: UndefinedMetricWarning: F-score is ill-defined and being set to 0.0 due to no predicted samples.\n",
      "  'precision', 'predicted', average, warn_for)\n"
     ]
    },
    {
     "name": "stdout",
     "output_type": "stream",
     "text": [
      "<class 'sklearn.ensemble.forest.RandomForestClassifier'>\n",
      "<class 'sklearn.ensemble.forest.RandomForestClassifier'>\n",
      "<class 'sklearn.ensemble.weight_boosting.AdaBoostClassifier'>\n",
      "<class 'sklearn.ensemble.gradient_boosting.GradientBoostingClassifier'>\n",
      "=====================\n",
      "-1\n",
      "-1\n",
      "379\n",
      "1 is more\n"
     ]
    },
    {
     "name": "stderr",
     "output_type": "stream",
     "text": [
      "/anaconda3/lib/python3.7/site-packages/sklearn/feature_selection/univariate_selection.py:113: UserWarning: Features [  7  10  13  18  22  24  29  31  35  36  37  38  39  41  42  44  47  49\n",
      "  50  52  55  56  57  58  61  62  63  64  65  67  68  70  71  72  73  74\n",
      "  75  86  89  92  97 101 103 108 110 114 115 116 117 118 120 121 123 126\n",
      " 128 129 131 134 135 136 137 140 141 142 143 144 146 147 149 150 151 152\n",
      " 153 154 160 162 163 186 199 200 202 211 212 214 215 216 217 218 221 222\n",
      " 223 224 226 227 229 230 231 232 233 246 247 248 249 254 257 261 262 264] are constant.\n",
      "  UserWarning)\n",
      "/anaconda3/lib/python3.7/site-packages/sklearn/feature_selection/univariate_selection.py:114: RuntimeWarning: invalid value encountered in true_divide\n",
      "  f = msb / msw\n",
      "/anaconda3/lib/python3.7/site-packages/sklearn/neural_network/multilayer_perceptron.py:564: ConvergenceWarning: Stochastic Optimizer: Maximum iterations (200) reached and the optimization hasn't converged yet.\n",
      "  % self.max_iter, ConvergenceWarning)\n"
     ]
    },
    {
     "name": "stdout",
     "output_type": "stream",
     "text": [
      "<class 'sklearn.neural_network.multilayer_perceptron.MLPClassifier'>\n",
      "<class 'sklearn.naive_bayes.GaussianNB'>\n",
      "<class 'sklearn.naive_bayes.GaussianNB'>\n",
      "<class 'sklearn.svm.classes.LinearSVC'>\n",
      "<class 'sklearn.ensemble.forest.ExtraTreesClassifier'>\n",
      "<class 'sklearn.ensemble.forest.ExtraTreesClassifier'>\n",
      "<class 'sklearn.tree.tree.DecisionTreeClassifier'>\n",
      "<class 'sklearn.tree.tree.DecisionTreeClassifier'>\n",
      "<class 'sklearn.ensemble.forest.RandomForestClassifier'>\n",
      "<class 'sklearn.ensemble.forest.RandomForestClassifier'>\n"
     ]
    },
    {
     "name": "stderr",
     "output_type": "stream",
     "text": [
      "/anaconda3/lib/python3.7/site-packages/sklearn/metrics/classification.py:1135: UndefinedMetricWarning: F-score is ill-defined and being set to 0.0 due to no predicted samples.\n",
      "  'precision', 'predicted', average, warn_for)\n"
     ]
    },
    {
     "name": "stdout",
     "output_type": "stream",
     "text": [
      "<class 'sklearn.ensemble.weight_boosting.AdaBoostClassifier'>\n",
      "<class 'sklearn.ensemble.gradient_boosting.GradientBoostingClassifier'>\n",
      "=====================\n",
      "-1\n",
      "-1\n",
      "380\n",
      "1 is more\n"
     ]
    },
    {
     "name": "stderr",
     "output_type": "stream",
     "text": [
      "/anaconda3/lib/python3.7/site-packages/sklearn/feature_selection/univariate_selection.py:113: UserWarning: Features [  7  10  13  18  22  24  29  31  35  36  37  38  39  41  42  44  47  49\n",
      "  50  52  55  56  57  58  61  62  63  64  65  67  68  70  71  72  73  74\n",
      "  75  86  89  92  97 101 103 108 110 114 115 116 117 118 120 121 123 126\n",
      " 128 129 131 134 135 136 137 140 141 142 143 144 146 147 149 150 151 152\n",
      " 153 154 160 162 163 186 199 200 202 211 212 214 215 216 217 218 221 222\n",
      " 223 224 226 227 229 230 231 232 233 246 247 248 249 254 257 261 262 264] are constant.\n",
      "  UserWarning)\n",
      "/anaconda3/lib/python3.7/site-packages/sklearn/feature_selection/univariate_selection.py:114: RuntimeWarning: invalid value encountered in true_divide\n",
      "  f = msb / msw\n",
      "/anaconda3/lib/python3.7/site-packages/sklearn/neural_network/multilayer_perceptron.py:564: ConvergenceWarning: Stochastic Optimizer: Maximum iterations (200) reached and the optimization hasn't converged yet.\n",
      "  % self.max_iter, ConvergenceWarning)\n"
     ]
    },
    {
     "name": "stdout",
     "output_type": "stream",
     "text": [
      "<class 'sklearn.neural_network.multilayer_perceptron.MLPClassifier'>\n",
      "<class 'sklearn.naive_bayes.GaussianNB'>\n",
      "<class 'sklearn.naive_bayes.GaussianNB'>\n",
      "<class 'sklearn.svm.classes.LinearSVC'>\n",
      "<class 'sklearn.ensemble.forest.ExtraTreesClassifier'>\n",
      "<class 'sklearn.ensemble.forest.ExtraTreesClassifier'>\n",
      "<class 'sklearn.tree.tree.DecisionTreeClassifier'>\n",
      "<class 'sklearn.ensemble.forest.RandomForestClassifier'>\n",
      "<class 'sklearn.ensemble.forest.RandomForestClassifier'>\n",
      "<class 'sklearn.ensemble.weight_boosting.AdaBoostClassifier'>\n",
      "<class 'sklearn.ensemble.gradient_boosting.GradientBoostingClassifier'>\n",
      "=====================\n",
      "-1\n",
      "-1\n",
      "381\n",
      "1 is more\n"
     ]
    },
    {
     "name": "stderr",
     "output_type": "stream",
     "text": [
      "/anaconda3/lib/python3.7/site-packages/sklearn/feature_selection/univariate_selection.py:113: UserWarning: Features [  7  10  13  18  22  24  29  31  35  36  37  38  39  41  42  44  47  49\n",
      "  50  52  55  56  57  58  61  62  63  64  65  67  68  70  71  72  73  74\n",
      "  75  86  89  92  97 101 103 108 110 114 115 116 117 118 120 121 123 126\n",
      " 128 129 131 134 135 136 137 140 141 142 143 144 146 147 149 150 151 152\n",
      " 153 154 160 162 163 186 199 200 202 211 212 214 215 216 217 218 221 222\n",
      " 223 224 226 227 229 230 231 232 233 246 247 248 249 254 257 261 262 264] are constant.\n",
      "  UserWarning)\n",
      "/anaconda3/lib/python3.7/site-packages/sklearn/feature_selection/univariate_selection.py:114: RuntimeWarning: invalid value encountered in true_divide\n",
      "  f = msb / msw\n",
      "/anaconda3/lib/python3.7/site-packages/sklearn/neural_network/multilayer_perceptron.py:564: ConvergenceWarning: Stochastic Optimizer: Maximum iterations (200) reached and the optimization hasn't converged yet.\n",
      "  % self.max_iter, ConvergenceWarning)\n"
     ]
    },
    {
     "name": "stdout",
     "output_type": "stream",
     "text": [
      "<class 'sklearn.neural_network.multilayer_perceptron.MLPClassifier'>\n",
      "<class 'sklearn.naive_bayes.GaussianNB'>\n",
      "<class 'sklearn.naive_bayes.GaussianNB'>\n",
      "<class 'sklearn.svm.classes.LinearSVC'>\n",
      "<class 'sklearn.ensemble.forest.ExtraTreesClassifier'>\n",
      "<class 'sklearn.ensemble.forest.ExtraTreesClassifier'>\n",
      "<class 'sklearn.tree.tree.DecisionTreeClassifier'>\n",
      "<class 'sklearn.ensemble.forest.RandomForestClassifier'>\n",
      "<class 'sklearn.ensemble.forest.RandomForestClassifier'>\n",
      "<class 'sklearn.ensemble.weight_boosting.AdaBoostClassifier'>\n",
      "<class 'sklearn.ensemble.gradient_boosting.GradientBoostingClassifier'>\n",
      "=====================\n",
      "-1\n",
      "-1\n",
      "382\n",
      "1 is more\n"
     ]
    },
    {
     "name": "stderr",
     "output_type": "stream",
     "text": [
      "/anaconda3/lib/python3.7/site-packages/sklearn/feature_selection/univariate_selection.py:113: UserWarning: Features [  7  10  13  18  22  24  29  31  35  36  37  38  39  41  42  44  47  49\n",
      "  50  52  55  56  57  58  61  62  63  64  65  67  68  70  71  72  73  74\n",
      "  75  86  89  92  97 101 103 108 110 114 115 116 117 118 120 121 123 126\n",
      " 128 129 131 134 135 136 137 140 141 142 143 144 146 147 149 150 151 152\n",
      " 153 154 160 162 163 186 199 200 202 211 212 214 215 216 217 218 221 222\n",
      " 223 224 226 227 229 230 231 232 233 246 247 248 249 254 257 261 262 264] are constant.\n",
      "  UserWarning)\n",
      "/anaconda3/lib/python3.7/site-packages/sklearn/feature_selection/univariate_selection.py:114: RuntimeWarning: invalid value encountered in true_divide\n",
      "  f = msb / msw\n",
      "/anaconda3/lib/python3.7/site-packages/sklearn/neural_network/multilayer_perceptron.py:564: ConvergenceWarning: Stochastic Optimizer: Maximum iterations (200) reached and the optimization hasn't converged yet.\n",
      "  % self.max_iter, ConvergenceWarning)\n",
      "/anaconda3/lib/python3.7/site-packages/sklearn/metrics/classification.py:1137: UndefinedMetricWarning: F-score is ill-defined and being set to 0.0 due to no true samples.\n",
      "  'recall', 'true', average, warn_for)\n"
     ]
    },
    {
     "name": "stdout",
     "output_type": "stream",
     "text": [
      "<class 'sklearn.neural_network.multilayer_perceptron.MLPClassifier'>\n",
      "<class 'sklearn.naive_bayes.GaussianNB'>\n",
      "<class 'sklearn.svm.classes.LinearSVC'>\n",
      "<class 'sklearn.svm.classes.LinearSVC'>\n",
      "<class 'sklearn.ensemble.forest.ExtraTreesClassifier'>\n",
      "<class 'sklearn.ensemble.forest.ExtraTreesClassifier'>\n",
      "<class 'sklearn.tree.tree.DecisionTreeClassifier'>\n"
     ]
    },
    {
     "name": "stderr",
     "output_type": "stream",
     "text": [
      "/anaconda3/lib/python3.7/site-packages/sklearn/metrics/classification.py:1137: UndefinedMetricWarning: F-score is ill-defined and being set to 0.0 due to no true samples.\n",
      "  'recall', 'true', average, warn_for)\n",
      "/anaconda3/lib/python3.7/site-packages/sklearn/metrics/classification.py:1137: UndefinedMetricWarning: F-score is ill-defined and being set to 0.0 due to no true samples.\n",
      "  'recall', 'true', average, warn_for)\n"
     ]
    },
    {
     "name": "stdout",
     "output_type": "stream",
     "text": [
      "<class 'sklearn.ensemble.forest.RandomForestClassifier'>\n",
      "<class 'sklearn.ensemble.forest.RandomForestClassifier'>\n"
     ]
    },
    {
     "name": "stderr",
     "output_type": "stream",
     "text": [
      "/anaconda3/lib/python3.7/site-packages/sklearn/metrics/classification.py:1137: UndefinedMetricWarning: F-score is ill-defined and being set to 0.0 due to no true samples.\n",
      "  'recall', 'true', average, warn_for)\n"
     ]
    },
    {
     "name": "stdout",
     "output_type": "stream",
     "text": [
      "<class 'sklearn.ensemble.weight_boosting.AdaBoostClassifier'>\n",
      "<class 'sklearn.ensemble.gradient_boosting.GradientBoostingClassifier'>\n",
      "=====================\n",
      "-1\n",
      "-1\n",
      "383\n",
      "0 is more\n"
     ]
    },
    {
     "name": "stderr",
     "output_type": "stream",
     "text": [
      "/anaconda3/lib/python3.7/site-packages/sklearn/feature_selection/univariate_selection.py:113: UserWarning: Features [  7  10  13  18  22  24  29  31  35  36  37  38  39  41  42  44  47  49\n",
      "  50  52  55  56  57  58  61  62  63  64  65  67  68  70  71  72  73  74\n",
      "  75  86  89  92  97 101 103 108 110 114 115 116 117 118 120 121 123 126\n",
      " 128 129 131 134 135 136 137 140 141 142 143 144 146 147 149 150 151 152\n",
      " 153 154 160 162 163 186 199 200 202 211 212 214 215 216 217 218 221 222\n",
      " 223 224 226 227 229 230 231 232 233 246 247 248 249 254 257 261 262 264] are constant.\n",
      "  UserWarning)\n",
      "/anaconda3/lib/python3.7/site-packages/sklearn/feature_selection/univariate_selection.py:114: RuntimeWarning: invalid value encountered in true_divide\n",
      "  f = msb / msw\n",
      "/anaconda3/lib/python3.7/site-packages/sklearn/neural_network/multilayer_perceptron.py:564: ConvergenceWarning: Stochastic Optimizer: Maximum iterations (200) reached and the optimization hasn't converged yet.\n",
      "  % self.max_iter, ConvergenceWarning)\n"
     ]
    },
    {
     "name": "stdout",
     "output_type": "stream",
     "text": [
      "<class 'sklearn.neural_network.multilayer_perceptron.MLPClassifier'>\n",
      "<class 'sklearn.neural_network.multilayer_perceptron.MLPClassifier'>\n",
      "<class 'sklearn.naive_bayes.GaussianNB'>\n",
      "<class 'sklearn.naive_bayes.GaussianNB'>\n",
      "<class 'sklearn.svm.classes.LinearSVC'>\n",
      "<class 'sklearn.svm.classes.LinearSVC'>\n",
      "<class 'sklearn.ensemble.forest.ExtraTreesClassifier'>\n",
      "<class 'sklearn.tree.tree.DecisionTreeClassifier'>\n",
      "<class 'sklearn.tree.tree.DecisionTreeClassifier'>\n",
      "<class 'sklearn.ensemble.forest.RandomForestClassifier'>\n",
      "<class 'sklearn.ensemble.weight_boosting.AdaBoostClassifier'>\n",
      "<class 'sklearn.ensemble.weight_boosting.AdaBoostClassifier'>\n",
      "<class 'sklearn.ensemble.gradient_boosting.GradientBoostingClassifier'>\n",
      "<class 'sklearn.ensemble.gradient_boosting.GradientBoostingClassifier'>\n",
      "=====================\n",
      "-1\n",
      "-1\n",
      "1 is more\n"
     ]
    },
    {
     "name": "stderr",
     "output_type": "stream",
     "text": [
      "/anaconda3/lib/python3.7/site-packages/sklearn/feature_selection/univariate_selection.py:113: UserWarning: Features [  7  10  13  18  22  24  29  31  35  36  37  38  39  41  42  44  47  49\n",
      "  50  52  55  56  57  58  61  62  63  64  65  67  68  70  71  72  73  74\n",
      "  75  86  89  92  97 101 103 108 110 114 115 116 117 118 120 121 123 126\n",
      " 128 129 131 134 135 136 137 140 141 142 143 144 146 147 149 150 151 152\n",
      " 153 154 160 162 163 186 199 200 202 211 212 214 215 216 217 218 221 222\n",
      " 223 224 226 227 229 230 231 232 233 246 247 248 249 254 257 261 262 264] are constant.\n",
      "  UserWarning)\n",
      "/anaconda3/lib/python3.7/site-packages/sklearn/feature_selection/univariate_selection.py:114: RuntimeWarning: invalid value encountered in true_divide\n",
      "  f = msb / msw\n",
      "/anaconda3/lib/python3.7/site-packages/sklearn/neural_network/multilayer_perceptron.py:564: ConvergenceWarning: Stochastic Optimizer: Maximum iterations (200) reached and the optimization hasn't converged yet.\n",
      "  % self.max_iter, ConvergenceWarning)\n",
      "/anaconda3/lib/python3.7/site-packages/sklearn/metrics/classification.py:1135: UndefinedMetricWarning: F-score is ill-defined and being set to 0.0 due to no predicted samples.\n",
      "  'precision', 'predicted', average, warn_for)\n"
     ]
    },
    {
     "name": "stdout",
     "output_type": "stream",
     "text": [
      "<class 'sklearn.neural_network.multilayer_perceptron.MLPClassifier'>\n",
      "<class 'sklearn.neural_network.multilayer_perceptron.MLPClassifier'>\n",
      "<class 'sklearn.naive_bayes.GaussianNB'>\n",
      "<class 'sklearn.naive_bayes.GaussianNB'>\n",
      "<class 'sklearn.svm.classes.LinearSVC'>\n",
      "<class 'sklearn.ensemble.forest.ExtraTreesClassifier'>\n",
      "<class 'sklearn.tree.tree.DecisionTreeClassifier'>\n"
     ]
    },
    {
     "name": "stderr",
     "output_type": "stream",
     "text": [
      "/anaconda3/lib/python3.7/site-packages/sklearn/metrics/classification.py:1135: UndefinedMetricWarning: F-score is ill-defined and being set to 0.0 due to no predicted samples.\n",
      "  'precision', 'predicted', average, warn_for)\n",
      "/anaconda3/lib/python3.7/site-packages/sklearn/metrics/classification.py:1135: UndefinedMetricWarning: F-score is ill-defined and being set to 0.0 due to no predicted samples.\n",
      "  'precision', 'predicted', average, warn_for)\n"
     ]
    },
    {
     "name": "stdout",
     "output_type": "stream",
     "text": [
      "<class 'sklearn.ensemble.forest.RandomForestClassifier'>\n",
      "<class 'sklearn.ensemble.weight_boosting.AdaBoostClassifier'>\n",
      "<class 'sklearn.ensemble.weight_boosting.AdaBoostClassifier'>\n"
     ]
    },
    {
     "name": "stderr",
     "output_type": "stream",
     "text": [
      "/anaconda3/lib/python3.7/site-packages/sklearn/metrics/classification.py:1135: UndefinedMetricWarning: F-score is ill-defined and being set to 0.0 due to no predicted samples.\n",
      "  'precision', 'predicted', average, warn_for)\n"
     ]
    },
    {
     "name": "stdout",
     "output_type": "stream",
     "text": [
      "<class 'sklearn.ensemble.gradient_boosting.GradientBoostingClassifier'>\n",
      "<class 'sklearn.ensemble.gradient_boosting.GradientBoostingClassifier'>\n",
      "=====================\n",
      "-1\n",
      "-1\n",
      "0 is more\n"
     ]
    },
    {
     "name": "stderr",
     "output_type": "stream",
     "text": [
      "/anaconda3/lib/python3.7/site-packages/sklearn/feature_selection/univariate_selection.py:113: UserWarning: Features [  7  10  13  18  22  24  29  31  35  36  37  38  39  41  42  44  47  49\n",
      "  50  52  55  56  57  58  61  62  63  64  65  67  68  70  71  72  73  74\n",
      "  75  86  89  92  97 101 103 108 110 114 115 116 117 118 120 121 123 126\n",
      " 128 129 131 134 135 136 137 140 141 142 143 144 146 147 149 150 151 152\n",
      " 153 154 160 162 163 186 199 200 202 211 212 214 215 216 217 218 221 222\n",
      " 223 224 226 227 229 230 231 232 233 246 247 248 249 254 257 261 262 264] are constant.\n",
      "  UserWarning)\n",
      "/anaconda3/lib/python3.7/site-packages/sklearn/feature_selection/univariate_selection.py:114: RuntimeWarning: invalid value encountered in true_divide\n",
      "  f = msb / msw\n",
      "/anaconda3/lib/python3.7/site-packages/sklearn/neural_network/multilayer_perceptron.py:564: ConvergenceWarning: Stochastic Optimizer: Maximum iterations (200) reached and the optimization hasn't converged yet.\n",
      "  % self.max_iter, ConvergenceWarning)\n",
      "/anaconda3/lib/python3.7/site-packages/sklearn/metrics/classification.py:1137: UndefinedMetricWarning: F-score is ill-defined and being set to 0.0 due to no true samples.\n",
      "  'recall', 'true', average, warn_for)\n"
     ]
    },
    {
     "name": "stdout",
     "output_type": "stream",
     "text": [
      "<class 'sklearn.neural_network.multilayer_perceptron.MLPClassifier'>\n",
      "<class 'sklearn.neural_network.multilayer_perceptron.MLPClassifier'>\n",
      "<class 'sklearn.naive_bayes.GaussianNB'>\n",
      "<class 'sklearn.naive_bayes.GaussianNB'>\n",
      "<class 'sklearn.svm.classes.LinearSVC'>\n",
      "<class 'sklearn.svm.classes.LinearSVC'>\n",
      "<class 'sklearn.ensemble.forest.ExtraTreesClassifier'>\n",
      "<class 'sklearn.tree.tree.DecisionTreeClassifier'>\n",
      "<class 'sklearn.tree.tree.DecisionTreeClassifier'>\n",
      "<class 'sklearn.ensemble.forest.RandomForestClassifier'>\n",
      "<class 'sklearn.ensemble.weight_boosting.AdaBoostClassifier'>\n",
      "<class 'sklearn.ensemble.weight_boosting.AdaBoostClassifier'>\n",
      "<class 'sklearn.ensemble.gradient_boosting.GradientBoostingClassifier'>\n",
      "<class 'sklearn.ensemble.gradient_boosting.GradientBoostingClassifier'>\n",
      "=====================\n",
      "-1\n",
      "-1\n",
      "1 is more\n"
     ]
    },
    {
     "name": "stderr",
     "output_type": "stream",
     "text": [
      "/anaconda3/lib/python3.7/site-packages/sklearn/feature_selection/univariate_selection.py:113: UserWarning: Features [  7  10  13  18  22  24  29  31  35  36  37  38  39  41  42  44  47  49\n",
      "  50  52  55  56  57  58  61  62  63  64  65  67  68  70  71  72  73  74\n",
      "  75  86  89  92  97 101 103 108 110 114 115 116 117 118 120 121 123 126\n",
      " 128 129 131 134 135 136 137 140 141 142 143 144 146 147 149 150 151 152\n",
      " 153 154 160 162 163 186 199 200 202 211 212 214 215 216 217 218 221 222\n",
      " 223 224 226 227 229 230 231 232 233 246 247 248 249 254 257 261 262 264] are constant.\n",
      "  UserWarning)\n",
      "/anaconda3/lib/python3.7/site-packages/sklearn/feature_selection/univariate_selection.py:114: RuntimeWarning: invalid value encountered in true_divide\n",
      "  f = msb / msw\n",
      "/anaconda3/lib/python3.7/site-packages/sklearn/neural_network/multilayer_perceptron.py:564: ConvergenceWarning: Stochastic Optimizer: Maximum iterations (200) reached and the optimization hasn't converged yet.\n",
      "  % self.max_iter, ConvergenceWarning)\n"
     ]
    },
    {
     "name": "stdout",
     "output_type": "stream",
     "text": [
      "<class 'sklearn.neural_network.multilayer_perceptron.MLPClassifier'>\n",
      "<class 'sklearn.neural_network.multilayer_perceptron.MLPClassifier'>\n",
      "<class 'sklearn.naive_bayes.GaussianNB'>\n"
     ]
    },
    {
     "name": "stderr",
     "output_type": "stream",
     "text": [
      "/anaconda3/lib/python3.7/site-packages/sklearn/metrics/classification.py:1137: UndefinedMetricWarning: F-score is ill-defined and being set to 0.0 due to no true samples.\n",
      "  'recall', 'true', average, warn_for)\n",
      "/anaconda3/lib/python3.7/site-packages/sklearn/metrics/classification.py:1137: UndefinedMetricWarning: F-score is ill-defined and being set to 0.0 due to no true samples.\n",
      "  'recall', 'true', average, warn_for)\n"
     ]
    },
    {
     "name": "stdout",
     "output_type": "stream",
     "text": [
      "<class 'sklearn.svm.classes.LinearSVC'>\n",
      "<class 'sklearn.ensemble.forest.ExtraTreesClassifier'>\n",
      "<class 'sklearn.ensemble.forest.ExtraTreesClassifier'>\n",
      "<class 'sklearn.tree.tree.DecisionTreeClassifier'>\n",
      "<class 'sklearn.tree.tree.DecisionTreeClassifier'>\n",
      "<class 'sklearn.ensemble.forest.RandomForestClassifier'>\n",
      "<class 'sklearn.ensemble.forest.RandomForestClassifier'>\n"
     ]
    },
    {
     "name": "stderr",
     "output_type": "stream",
     "text": [
      "/anaconda3/lib/python3.7/site-packages/sklearn/metrics/classification.py:1137: UndefinedMetricWarning: F-score is ill-defined and being set to 0.0 due to no true samples.\n",
      "  'recall', 'true', average, warn_for)\n",
      "/anaconda3/lib/python3.7/site-packages/sklearn/metrics/classification.py:1137: UndefinedMetricWarning: F-score is ill-defined and being set to 0.0 due to no true samples.\n",
      "  'recall', 'true', average, warn_for)\n"
     ]
    },
    {
     "name": "stdout",
     "output_type": "stream",
     "text": [
      "<class 'sklearn.ensemble.weight_boosting.AdaBoostClassifier'>\n",
      "<class 'sklearn.ensemble.gradient_boosting.GradientBoostingClassifier'>\n",
      "=====================\n",
      "-1\n",
      "-1\n",
      "1 is more\n"
     ]
    },
    {
     "name": "stderr",
     "output_type": "stream",
     "text": [
      "/anaconda3/lib/python3.7/site-packages/sklearn/feature_selection/univariate_selection.py:113: UserWarning: Features [  7  10  13  18  22  24  29  31  35  36  37  38  39  41  42  44  47  49\n",
      "  50  52  55  56  57  58  61  62  63  64  65  67  68  70  71  72  73  74\n",
      "  75  86  89  92  97 101 103 108 110 114 115 116 117 118 120 121 123 126\n",
      " 128 129 131 134 135 136 137 140 141 142 143 144 146 147 149 150 151 152\n",
      " 153 154 160 162 163 186 199 200 202 211 212 214 215 216 217 218 221 222\n",
      " 223 224 226 227 229 230 231 232 233 246 247 248 249 254 257 261 262 264] are constant.\n",
      "  UserWarning)\n",
      "/anaconda3/lib/python3.7/site-packages/sklearn/feature_selection/univariate_selection.py:114: RuntimeWarning: invalid value encountered in true_divide\n",
      "  f = msb / msw\n",
      "/anaconda3/lib/python3.7/site-packages/sklearn/neural_network/multilayer_perceptron.py:564: ConvergenceWarning: Stochastic Optimizer: Maximum iterations (200) reached and the optimization hasn't converged yet.\n",
      "  % self.max_iter, ConvergenceWarning)\n",
      "/anaconda3/lib/python3.7/site-packages/sklearn/metrics/classification.py:1135: UndefinedMetricWarning: F-score is ill-defined and being set to 0.0 due to no predicted samples.\n",
      "  'precision', 'predicted', average, warn_for)\n"
     ]
    },
    {
     "name": "stdout",
     "output_type": "stream",
     "text": [
      "<class 'sklearn.neural_network.multilayer_perceptron.MLPClassifier'>\n",
      "<class 'sklearn.neural_network.multilayer_perceptron.MLPClassifier'>\n",
      "<class 'sklearn.naive_bayes.GaussianNB'>\n",
      "<class 'sklearn.svm.classes.LinearSVC'>\n",
      "<class 'sklearn.ensemble.forest.ExtraTreesClassifier'>\n",
      "<class 'sklearn.ensemble.forest.ExtraTreesClassifier'>\n",
      "<class 'sklearn.tree.tree.DecisionTreeClassifier'>\n",
      "<class 'sklearn.ensemble.forest.RandomForestClassifier'>\n",
      "<class 'sklearn.ensemble.forest.RandomForestClassifier'>\n",
      "<class 'sklearn.ensemble.weight_boosting.AdaBoostClassifier'>\n",
      "<class 'sklearn.ensemble.gradient_boosting.GradientBoostingClassifier'>\n",
      "=====================\n",
      "-1\n",
      "-1\n",
      "388\n",
      "1 is more\n"
     ]
    },
    {
     "name": "stderr",
     "output_type": "stream",
     "text": [
      "/anaconda3/lib/python3.7/site-packages/sklearn/feature_selection/univariate_selection.py:113: UserWarning: Features [  7  10  13  18  22  24  29  31  35  36  37  38  39  41  42  44  47  49\n",
      "  50  52  55  56  57  58  61  62  63  64  65  67  68  70  71  72  73  74\n",
      "  75  86  89  92  97 101 103 108 110 114 115 116 117 118 120 121 123 126\n",
      " 128 129 131 134 135 136 137 140 141 142 143 144 146 147 149 150 151 152\n",
      " 153 154 160 162 163 186 199 200 202 211 212 214 215 216 217 218 221 222\n",
      " 223 224 226 227 229 230 231 232 233 246 247 248 249 254 257 261 262 264] are constant.\n",
      "  UserWarning)\n",
      "/anaconda3/lib/python3.7/site-packages/sklearn/feature_selection/univariate_selection.py:114: RuntimeWarning: invalid value encountered in true_divide\n",
      "  f = msb / msw\n"
     ]
    },
    {
     "name": "stdout",
     "output_type": "stream",
     "text": [
      "<class 'sklearn.neural_network.multilayer_perceptron.MLPClassifier'>\n",
      "<class 'sklearn.naive_bayes.GaussianNB'>\n"
     ]
    },
    {
     "name": "stderr",
     "output_type": "stream",
     "text": [
      "/anaconda3/lib/python3.7/site-packages/sklearn/metrics/classification.py:1135: UndefinedMetricWarning: F-score is ill-defined and being set to 0.0 due to no predicted samples.\n",
      "  'precision', 'predicted', average, warn_for)\n"
     ]
    },
    {
     "name": "stdout",
     "output_type": "stream",
     "text": [
      "<class 'sklearn.svm.classes.LinearSVC'>\n",
      "<class 'sklearn.ensemble.forest.ExtraTreesClassifier'>\n",
      "<class 'sklearn.ensemble.forest.ExtraTreesClassifier'>\n",
      "<class 'sklearn.tree.tree.DecisionTreeClassifier'>\n",
      "<class 'sklearn.tree.tree.DecisionTreeClassifier'>\n"
     ]
    },
    {
     "name": "stderr",
     "output_type": "stream",
     "text": [
      "/anaconda3/lib/python3.7/site-packages/sklearn/metrics/classification.py:1135: UndefinedMetricWarning: F-score is ill-defined and being set to 0.0 due to no predicted samples.\n",
      "  'precision', 'predicted', average, warn_for)\n"
     ]
    },
    {
     "name": "stdout",
     "output_type": "stream",
     "text": [
      "<class 'sklearn.ensemble.forest.RandomForestClassifier'>\n",
      "<class 'sklearn.ensemble.forest.RandomForestClassifier'>\n",
      "<class 'sklearn.ensemble.weight_boosting.AdaBoostClassifier'>\n",
      "<class 'sklearn.ensemble.gradient_boosting.GradientBoostingClassifier'>\n",
      "=====================\n",
      "-1\n",
      "-1\n",
      "389\n",
      "0 is more\n"
     ]
    },
    {
     "name": "stderr",
     "output_type": "stream",
     "text": [
      "/anaconda3/lib/python3.7/site-packages/sklearn/feature_selection/univariate_selection.py:113: UserWarning: Features [  7  10  13  18  22  24  29  31  35  36  37  38  39  41  42  44  47  49\n",
      "  50  52  55  56  57  58  61  62  63  64  65  67  68  70  71  72  73  74\n",
      "  75  86  89  92  97 101 103 108 110 114 115 116 117 118 120 121 123 126\n",
      " 128 129 131 134 135 136 137 140 141 142 143 144 146 147 149 150 151 152\n",
      " 153 154 160 162 163 186 199 200 202 211 212 214 215 216 217 218 221 222\n",
      " 223 224 226 227 229 230 231 232 233 246 247 248 249 254 257 261 262 264] are constant.\n",
      "  UserWarning)\n",
      "/anaconda3/lib/python3.7/site-packages/sklearn/feature_selection/univariate_selection.py:114: RuntimeWarning: invalid value encountered in true_divide\n",
      "  f = msb / msw\n",
      "/anaconda3/lib/python3.7/site-packages/sklearn/metrics/classification.py:1137: UndefinedMetricWarning: F-score is ill-defined and being set to 0.0 due to no true samples.\n",
      "  'recall', 'true', average, warn_for)\n"
     ]
    },
    {
     "name": "stdout",
     "output_type": "stream",
     "text": [
      "<class 'sklearn.neural_network.multilayer_perceptron.MLPClassifier'>\n",
      "<class 'sklearn.naive_bayes.GaussianNB'>\n",
      "<class 'sklearn.naive_bayes.GaussianNB'>\n",
      "<class 'sklearn.svm.classes.LinearSVC'>\n",
      "<class 'sklearn.ensemble.forest.ExtraTreesClassifier'>\n",
      "<class 'sklearn.tree.tree.DecisionTreeClassifier'>\n",
      "<class 'sklearn.tree.tree.DecisionTreeClassifier'>\n",
      "<class 'sklearn.ensemble.forest.RandomForestClassifier'>\n",
      "<class 'sklearn.ensemble.weight_boosting.AdaBoostClassifier'>\n",
      "<class 'sklearn.ensemble.weight_boosting.AdaBoostClassifier'>\n"
     ]
    },
    {
     "name": "stderr",
     "output_type": "stream",
     "text": [
      "/anaconda3/lib/python3.7/site-packages/sklearn/metrics/classification.py:1137: UndefinedMetricWarning: F-score is ill-defined and being set to 0.0 due to no true samples.\n",
      "  'recall', 'true', average, warn_for)\n",
      "/anaconda3/lib/python3.7/site-packages/sklearn/feature_selection/univariate_selection.py:113: UserWarning: Features [  7  10  13  18  22  24  29  31  35  36  37  38  39  41  42  44  47  49\n",
      "  50  52  55  56  57  58  61  62  63  64  65  67  68  70  71  72  73  74\n",
      "  75  86  89  92  97 101 103 108 110 114 115 116 117 118 120 121 123 126\n",
      " 128 129 131 134 135 136 137 140 141 142 143 144 146 147 149 150 151 152\n",
      " 153 154 160 162 163 186 199 200 202 211 212 214 215 216 217 218 221 222\n",
      " 223 224 226 227 229 230 231 232 233 246 247 248 249 254 257 261 262 264] are constant.\n",
      "  UserWarning)\n",
      "/anaconda3/lib/python3.7/site-packages/sklearn/feature_selection/univariate_selection.py:114: RuntimeWarning: invalid value encountered in true_divide\n",
      "  f = msb / msw\n"
     ]
    },
    {
     "name": "stdout",
     "output_type": "stream",
     "text": [
      "<class 'sklearn.ensemble.gradient_boosting.GradientBoostingClassifier'>\n",
      "=====================\n",
      "-1\n",
      "-1\n",
      "1 is more\n"
     ]
    },
    {
     "name": "stderr",
     "output_type": "stream",
     "text": [
      "/anaconda3/lib/python3.7/site-packages/sklearn/neural_network/multilayer_perceptron.py:564: ConvergenceWarning: Stochastic Optimizer: Maximum iterations (200) reached and the optimization hasn't converged yet.\n",
      "  % self.max_iter, ConvergenceWarning)\n"
     ]
    },
    {
     "name": "stdout",
     "output_type": "stream",
     "text": [
      "<class 'sklearn.neural_network.multilayer_perceptron.MLPClassifier'>\n",
      "<class 'sklearn.naive_bayes.GaussianNB'>\n",
      "<class 'sklearn.naive_bayes.GaussianNB'>\n",
      "<class 'sklearn.svm.classes.LinearSVC'>\n",
      "<class 'sklearn.ensemble.forest.ExtraTreesClassifier'>\n",
      "<class 'sklearn.ensemble.forest.ExtraTreesClassifier'>\n",
      "<class 'sklearn.tree.tree.DecisionTreeClassifier'>\n",
      "<class 'sklearn.tree.tree.DecisionTreeClassifier'>\n"
     ]
    },
    {
     "name": "stderr",
     "output_type": "stream",
     "text": [
      "/anaconda3/lib/python3.7/site-packages/sklearn/metrics/classification.py:1135: UndefinedMetricWarning: F-score is ill-defined and being set to 0.0 due to no predicted samples.\n",
      "  'precision', 'predicted', average, warn_for)\n"
     ]
    },
    {
     "name": "stdout",
     "output_type": "stream",
     "text": [
      "<class 'sklearn.ensemble.forest.RandomForestClassifier'>\n",
      "<class 'sklearn.ensemble.forest.RandomForestClassifier'>\n",
      "<class 'sklearn.ensemble.weight_boosting.AdaBoostClassifier'>\n",
      "<class 'sklearn.ensemble.gradient_boosting.GradientBoostingClassifier'>\n",
      "=====================\n",
      "-1\n",
      "-1\n",
      "391\n",
      "0 is more\n"
     ]
    },
    {
     "name": "stderr",
     "output_type": "stream",
     "text": [
      "/anaconda3/lib/python3.7/site-packages/sklearn/feature_selection/univariate_selection.py:113: UserWarning: Features [  7  10  13  18  22  24  29  31  35  36  37  38  39  41  42  44  47  49\n",
      "  50  52  55  56  57  58  61  62  63  64  65  67  68  70  71  72  73  74\n",
      "  75  86  89  92  97 101 103 108 110 114 115 116 117 118 120 121 123 126\n",
      " 128 129 131 134 135 136 137 140 141 142 143 144 146 147 149 150 151 152\n",
      " 153 154 160 162 163 186 199 200 202 211 212 214 215 216 217 218 221 222\n",
      " 223 224 226 227 229 230 231 232 233 246 247 248 249 254 257 261 262 264] are constant.\n",
      "  UserWarning)\n",
      "/anaconda3/lib/python3.7/site-packages/sklearn/feature_selection/univariate_selection.py:114: RuntimeWarning: invalid value encountered in true_divide\n",
      "  f = msb / msw\n",
      "/anaconda3/lib/python3.7/site-packages/sklearn/neural_network/multilayer_perceptron.py:564: ConvergenceWarning: Stochastic Optimizer: Maximum iterations (200) reached and the optimization hasn't converged yet.\n",
      "  % self.max_iter, ConvergenceWarning)\n",
      "/anaconda3/lib/python3.7/site-packages/sklearn/metrics/classification.py:1135: UndefinedMetricWarning: F-score is ill-defined and being set to 0.0 due to no predicted samples.\n",
      "  'precision', 'predicted', average, warn_for)\n"
     ]
    },
    {
     "name": "stdout",
     "output_type": "stream",
     "text": [
      "<class 'sklearn.neural_network.multilayer_perceptron.MLPClassifier'>\n",
      "<class 'sklearn.neural_network.multilayer_perceptron.MLPClassifier'>\n",
      "<class 'sklearn.naive_bayes.GaussianNB'>\n",
      "<class 'sklearn.svm.classes.LinearSVC'>\n",
      "<class 'sklearn.svm.classes.LinearSVC'>\n",
      "<class 'sklearn.ensemble.forest.ExtraTreesClassifier'>\n",
      "<class 'sklearn.tree.tree.DecisionTreeClassifier'>\n",
      "<class 'sklearn.tree.tree.DecisionTreeClassifier'>\n"
     ]
    },
    {
     "name": "stderr",
     "output_type": "stream",
     "text": [
      "/anaconda3/lib/python3.7/site-packages/sklearn/metrics/classification.py:1135: UndefinedMetricWarning: F-score is ill-defined and being set to 0.0 due to no predicted samples.\n",
      "  'precision', 'predicted', average, warn_for)\n",
      "/anaconda3/lib/python3.7/site-packages/sklearn/metrics/classification.py:1135: UndefinedMetricWarning: F-score is ill-defined and being set to 0.0 due to no predicted samples.\n",
      "  'precision', 'predicted', average, warn_for)\n"
     ]
    },
    {
     "name": "stdout",
     "output_type": "stream",
     "text": [
      "<class 'sklearn.ensemble.forest.RandomForestClassifier'>\n",
      "<class 'sklearn.ensemble.weight_boosting.AdaBoostClassifier'>\n",
      "<class 'sklearn.ensemble.weight_boosting.AdaBoostClassifier'>\n"
     ]
    },
    {
     "name": "stderr",
     "output_type": "stream",
     "text": [
      "/anaconda3/lib/python3.7/site-packages/sklearn/metrics/classification.py:1135: UndefinedMetricWarning: F-score is ill-defined and being set to 0.0 due to no predicted samples.\n",
      "  'precision', 'predicted', average, warn_for)\n"
     ]
    },
    {
     "name": "stdout",
     "output_type": "stream",
     "text": [
      "<class 'sklearn.ensemble.gradient_boosting.GradientBoostingClassifier'>\n",
      "<class 'sklearn.ensemble.gradient_boosting.GradientBoostingClassifier'>\n",
      "=====================\n",
      "-1\n",
      "-1\n",
      "0 is more\n"
     ]
    },
    {
     "name": "stderr",
     "output_type": "stream",
     "text": [
      "/anaconda3/lib/python3.7/site-packages/sklearn/feature_selection/univariate_selection.py:113: UserWarning: Features [  7  10  13  18  22  24  29  31  35  36  37  38  39  41  42  44  47  49\n",
      "  50  52  55  56  57  58  61  62  63  64  65  67  68  70  71  72  73  74\n",
      "  75  86  89  92  97 101 103 108 110 114 115 116 117 118 120 121 123 126\n",
      " 128 129 131 134 135 136 137 140 141 142 143 144 146 147 149 150 151 152\n",
      " 153 154 160 162 163 186 199 200 202 211 212 214 215 216 217 218 221 222\n",
      " 223 224 226 227 229 230 231 232 233 246 247 248 249 254 257 261 262 264] are constant.\n",
      "  UserWarning)\n",
      "/anaconda3/lib/python3.7/site-packages/sklearn/feature_selection/univariate_selection.py:114: RuntimeWarning: invalid value encountered in true_divide\n",
      "  f = msb / msw\n",
      "/anaconda3/lib/python3.7/site-packages/sklearn/neural_network/multilayer_perceptron.py:564: ConvergenceWarning: Stochastic Optimizer: Maximum iterations (200) reached and the optimization hasn't converged yet.\n",
      "  % self.max_iter, ConvergenceWarning)\n",
      "/anaconda3/lib/python3.7/site-packages/sklearn/metrics/classification.py:1137: UndefinedMetricWarning: F-score is ill-defined and being set to 0.0 due to no true samples.\n",
      "  'recall', 'true', average, warn_for)\n"
     ]
    },
    {
     "name": "stdout",
     "output_type": "stream",
     "text": [
      "<class 'sklearn.neural_network.multilayer_perceptron.MLPClassifier'>\n",
      "<class 'sklearn.naive_bayes.GaussianNB'>\n",
      "<class 'sklearn.naive_bayes.GaussianNB'>\n",
      "<class 'sklearn.svm.classes.LinearSVC'>\n",
      "<class 'sklearn.svm.classes.LinearSVC'>\n",
      "<class 'sklearn.ensemble.forest.ExtraTreesClassifier'>\n"
     ]
    },
    {
     "name": "stderr",
     "output_type": "stream",
     "text": [
      "/anaconda3/lib/python3.7/site-packages/sklearn/metrics/classification.py:1137: UndefinedMetricWarning: F-score is ill-defined and being set to 0.0 due to no true samples.\n",
      "  'recall', 'true', average, warn_for)\n"
     ]
    },
    {
     "name": "stdout",
     "output_type": "stream",
     "text": [
      "<class 'sklearn.tree.tree.DecisionTreeClassifier'>\n",
      "<class 'sklearn.ensemble.forest.RandomForestClassifier'>\n"
     ]
    },
    {
     "name": "stderr",
     "output_type": "stream",
     "text": [
      "/anaconda3/lib/python3.7/site-packages/sklearn/metrics/classification.py:1137: UndefinedMetricWarning: F-score is ill-defined and being set to 0.0 due to no true samples.\n",
      "  'recall', 'true', average, warn_for)\n"
     ]
    },
    {
     "name": "stdout",
     "output_type": "stream",
     "text": [
      "<class 'sklearn.ensemble.weight_boosting.AdaBoostClassifier'>\n",
      "<class 'sklearn.ensemble.gradient_boosting.GradientBoostingClassifier'>\n",
      "=====================\n",
      "-1\n",
      "-1\n",
      "1 is more\n"
     ]
    },
    {
     "name": "stderr",
     "output_type": "stream",
     "text": [
      "/anaconda3/lib/python3.7/site-packages/sklearn/feature_selection/univariate_selection.py:113: UserWarning: Features [  7  10  13  18  22  24  29  31  35  36  37  38  39  41  42  44  47  49\n",
      "  50  52  55  56  57  58  61  62  63  64  65  67  68  70  71  72  73  74\n",
      "  75  86  89  92  97 101 103 108 110 114 115 116 117 118 120 121 123 126\n",
      " 128 129 131 134 135 136 137 140 141 142 143 144 146 147 149 150 151 152\n",
      " 153 154 160 162 163 186 199 200 202 211 212 214 215 216 217 218 221 222\n",
      " 223 224 226 227 229 230 231 232 233 246 247 248 249 254 257 261 262 264] are constant.\n",
      "  UserWarning)\n",
      "/anaconda3/lib/python3.7/site-packages/sklearn/feature_selection/univariate_selection.py:114: RuntimeWarning: invalid value encountered in true_divide\n",
      "  f = msb / msw\n"
     ]
    },
    {
     "name": "stdout",
     "output_type": "stream",
     "text": [
      "<class 'sklearn.neural_network.multilayer_perceptron.MLPClassifier'>\n",
      "<class 'sklearn.naive_bayes.GaussianNB'>\n",
      "<class 'sklearn.naive_bayes.GaussianNB'>\n",
      "<class 'sklearn.svm.classes.LinearSVC'>\n",
      "<class 'sklearn.ensemble.forest.ExtraTreesClassifier'>\n",
      "<class 'sklearn.tree.tree.DecisionTreeClassifier'>\n",
      "<class 'sklearn.tree.tree.DecisionTreeClassifier'>\n"
     ]
    },
    {
     "name": "stderr",
     "output_type": "stream",
     "text": [
      "/anaconda3/lib/python3.7/site-packages/sklearn/metrics/classification.py:1135: UndefinedMetricWarning: F-score is ill-defined and being set to 0.0 due to no predicted samples.\n",
      "  'precision', 'predicted', average, warn_for)\n"
     ]
    },
    {
     "name": "stdout",
     "output_type": "stream",
     "text": [
      "<class 'sklearn.ensemble.forest.RandomForestClassifier'>\n",
      "<class 'sklearn.ensemble.forest.RandomForestClassifier'>\n",
      "<class 'sklearn.ensemble.weight_boosting.AdaBoostClassifier'>\n",
      "<class 'sklearn.ensemble.weight_boosting.AdaBoostClassifier'>\n"
     ]
    },
    {
     "name": "stderr",
     "output_type": "stream",
     "text": [
      "/anaconda3/lib/python3.7/site-packages/sklearn/metrics/classification.py:1135: UndefinedMetricWarning: F-score is ill-defined and being set to 0.0 due to no predicted samples.\n",
      "  'precision', 'predicted', average, warn_for)\n"
     ]
    },
    {
     "name": "stdout",
     "output_type": "stream",
     "text": [
      "<class 'sklearn.ensemble.gradient_boosting.GradientBoostingClassifier'>\n",
      "=====================\n",
      "-1\n",
      "-1\n",
      "1 is more\n"
     ]
    },
    {
     "name": "stderr",
     "output_type": "stream",
     "text": [
      "/anaconda3/lib/python3.7/site-packages/sklearn/feature_selection/univariate_selection.py:113: UserWarning: Features [  7  10  13  18  22  24  29  31  35  36  37  38  39  41  42  44  47  49\n",
      "  50  52  55  56  57  58  61  62  63  64  65  67  68  70  71  72  73  74\n",
      "  75  86  89  92  97 101 103 108 110 114 115 116 117 118 120 121 123 126\n",
      " 128 129 131 134 135 136 137 140 141 142 143 144 146 147 149 150 151 152\n",
      " 153 154 160 162 163 186 199 200 202 211 212 214 215 216 217 218 221 222\n",
      " 223 224 226 227 229 230 231 232 233 246 247 248 249 254 257 261 262 264] are constant.\n",
      "  UserWarning)\n",
      "/anaconda3/lib/python3.7/site-packages/sklearn/feature_selection/univariate_selection.py:114: RuntimeWarning: invalid value encountered in true_divide\n",
      "  f = msb / msw\n",
      "/anaconda3/lib/python3.7/site-packages/sklearn/neural_network/multilayer_perceptron.py:564: ConvergenceWarning: Stochastic Optimizer: Maximum iterations (200) reached and the optimization hasn't converged yet.\n",
      "  % self.max_iter, ConvergenceWarning)\n"
     ]
    },
    {
     "name": "stdout",
     "output_type": "stream",
     "text": [
      "<class 'sklearn.neural_network.multilayer_perceptron.MLPClassifier'>\n",
      "<class 'sklearn.naive_bayes.GaussianNB'>\n",
      "<class 'sklearn.svm.classes.LinearSVC'>\n",
      "<class 'sklearn.ensemble.forest.ExtraTreesClassifier'>\n",
      "<class 'sklearn.ensemble.forest.ExtraTreesClassifier'>\n",
      "<class 'sklearn.tree.tree.DecisionTreeClassifier'>\n",
      "<class 'sklearn.ensemble.forest.RandomForestClassifier'>\n",
      "<class 'sklearn.ensemble.forest.RandomForestClassifier'>\n",
      "<class 'sklearn.ensemble.weight_boosting.AdaBoostClassifier'>\n",
      "<class 'sklearn.ensemble.gradient_boosting.GradientBoostingClassifier'>\n",
      "=====================\n",
      "-1\n",
      "-1\n",
      "395\n",
      "1 is more\n"
     ]
    },
    {
     "name": "stderr",
     "output_type": "stream",
     "text": [
      "/anaconda3/lib/python3.7/site-packages/sklearn/feature_selection/univariate_selection.py:113: UserWarning: Features [  7  10  13  18  22  24  29  31  35  36  37  38  39  41  42  44  47  49\n",
      "  50  52  55  56  57  58  61  62  63  64  65  67  68  70  71  72  73  74\n",
      "  75  86  89  92  97 101 103 108 110 114 115 116 117 118 120 121 123 126\n",
      " 128 129 131 134 135 136 137 140 141 142 143 144 146 147 149 150 151 152\n",
      " 153 154 160 162 163 186 199 200 202 211 212 214 215 216 217 218 221 222\n",
      " 223 224 226 227 229 230 231 232 233 246 247 248 249 254 257 261 262 264] are constant.\n",
      "  UserWarning)\n",
      "/anaconda3/lib/python3.7/site-packages/sklearn/feature_selection/univariate_selection.py:114: RuntimeWarning: invalid value encountered in true_divide\n",
      "  f = msb / msw\n",
      "/anaconda3/lib/python3.7/site-packages/sklearn/neural_network/multilayer_perceptron.py:564: ConvergenceWarning: Stochastic Optimizer: Maximum iterations (200) reached and the optimization hasn't converged yet.\n",
      "  % self.max_iter, ConvergenceWarning)\n"
     ]
    },
    {
     "name": "stdout",
     "output_type": "stream",
     "text": [
      "<class 'sklearn.neural_network.multilayer_perceptron.MLPClassifier'>\n",
      "<class 'sklearn.naive_bayes.GaussianNB'>\n",
      "<class 'sklearn.naive_bayes.GaussianNB'>\n",
      "<class 'sklearn.svm.classes.LinearSVC'>\n",
      "<class 'sklearn.ensemble.forest.ExtraTreesClassifier'>\n"
     ]
    },
    {
     "name": "stderr",
     "output_type": "stream",
     "text": [
      "/anaconda3/lib/python3.7/site-packages/sklearn/metrics/classification.py:1135: UndefinedMetricWarning: F-score is ill-defined and being set to 0.0 due to no predicted samples.\n",
      "  'precision', 'predicted', average, warn_for)\n"
     ]
    },
    {
     "name": "stdout",
     "output_type": "stream",
     "text": [
      "<class 'sklearn.tree.tree.DecisionTreeClassifier'>\n",
      "<class 'sklearn.ensemble.forest.RandomForestClassifier'>\n",
      "<class 'sklearn.ensemble.forest.RandomForestClassifier'>\n",
      "<class 'sklearn.ensemble.weight_boosting.AdaBoostClassifier'>\n",
      "<class 'sklearn.ensemble.gradient_boosting.GradientBoostingClassifier'>\n",
      "=====================\n",
      "-1\n",
      "-1\n",
      "396\n",
      "0 is more\n"
     ]
    },
    {
     "name": "stderr",
     "output_type": "stream",
     "text": [
      "/anaconda3/lib/python3.7/site-packages/sklearn/feature_selection/univariate_selection.py:113: UserWarning: Features [  7  10  13  18  22  24  29  31  35  36  37  38  39  41  42  44  47  49\n",
      "  50  52  55  56  57  58  61  62  63  64  65  67  68  70  71  72  73  74\n",
      "  75  86  89  92  97 101 103 108 110 114 115 116 117 118 120 121 123 126\n",
      " 128 129 131 134 135 136 137 140 141 142 143 144 146 147 149 150 151 152\n",
      " 153 154 160 162 163 186 199 200 202 211 212 214 215 216 217 218 221 222\n",
      " 223 224 226 227 229 230 231 232 233 246 247 248 249 254 257 261 262 264] are constant.\n",
      "  UserWarning)\n",
      "/anaconda3/lib/python3.7/site-packages/sklearn/feature_selection/univariate_selection.py:114: RuntimeWarning: invalid value encountered in true_divide\n",
      "  f = msb / msw\n",
      "/anaconda3/lib/python3.7/site-packages/sklearn/neural_network/multilayer_perceptron.py:564: ConvergenceWarning: Stochastic Optimizer: Maximum iterations (200) reached and the optimization hasn't converged yet.\n",
      "  % self.max_iter, ConvergenceWarning)\n",
      "/anaconda3/lib/python3.7/site-packages/sklearn/metrics/classification.py:1135: UndefinedMetricWarning: F-score is ill-defined and being set to 0.0 due to no predicted samples.\n",
      "  'precision', 'predicted', average, warn_for)\n"
     ]
    },
    {
     "name": "stdout",
     "output_type": "stream",
     "text": [
      "<class 'sklearn.neural_network.multilayer_perceptron.MLPClassifier'>\n",
      "<class 'sklearn.neural_network.multilayer_perceptron.MLPClassifier'>\n",
      "<class 'sklearn.naive_bayes.GaussianNB'>\n",
      "<class 'sklearn.naive_bayes.GaussianNB'>\n",
      "<class 'sklearn.svm.classes.LinearSVC'>\n",
      "<class 'sklearn.svm.classes.LinearSVC'>\n",
      "<class 'sklearn.ensemble.forest.ExtraTreesClassifier'>\n"
     ]
    },
    {
     "name": "stderr",
     "output_type": "stream",
     "text": [
      "/anaconda3/lib/python3.7/site-packages/sklearn/metrics/classification.py:1135: UndefinedMetricWarning: F-score is ill-defined and being set to 0.0 due to no predicted samples.\n",
      "  'precision', 'predicted', average, warn_for)\n"
     ]
    },
    {
     "name": "stdout",
     "output_type": "stream",
     "text": [
      "<class 'sklearn.tree.tree.DecisionTreeClassifier'>\n",
      "<class 'sklearn.ensemble.forest.RandomForestClassifier'>\n"
     ]
    },
    {
     "name": "stderr",
     "output_type": "stream",
     "text": [
      "/anaconda3/lib/python3.7/site-packages/sklearn/metrics/classification.py:1135: UndefinedMetricWarning: F-score is ill-defined and being set to 0.0 due to no predicted samples.\n",
      "  'precision', 'predicted', average, warn_for)\n"
     ]
    },
    {
     "name": "stdout",
     "output_type": "stream",
     "text": [
      "<class 'sklearn.ensemble.weight_boosting.AdaBoostClassifier'>\n",
      "<class 'sklearn.ensemble.weight_boosting.AdaBoostClassifier'>\n"
     ]
    },
    {
     "name": "stderr",
     "output_type": "stream",
     "text": [
      "/anaconda3/lib/python3.7/site-packages/sklearn/metrics/classification.py:1135: UndefinedMetricWarning: F-score is ill-defined and being set to 0.0 due to no predicted samples.\n",
      "  'precision', 'predicted', average, warn_for)\n"
     ]
    },
    {
     "name": "stdout",
     "output_type": "stream",
     "text": [
      "<class 'sklearn.ensemble.gradient_boosting.GradientBoostingClassifier'>\n",
      "<class 'sklearn.ensemble.gradient_boosting.GradientBoostingClassifier'>\n",
      "=====================\n",
      "-1\n",
      "-1\n",
      "0 is more\n"
     ]
    },
    {
     "name": "stderr",
     "output_type": "stream",
     "text": [
      "/anaconda3/lib/python3.7/site-packages/sklearn/feature_selection/univariate_selection.py:113: UserWarning: Features [  7  10  13  18  22  24  29  31  35  36  37  38  39  41  42  44  47  49\n",
      "  50  52  55  56  57  58  61  62  63  64  65  67  68  70  71  72  73  74\n",
      "  75  86  89  92  97 101 103 108 110 114 115 116 117 118 120 121 123 126\n",
      " 128 129 131 134 135 136 137 140 141 142 143 144 146 147 149 150 151 152\n",
      " 153 154 160 162 163 186 199 200 202 211 212 214 215 216 217 218 221 222\n",
      " 223 224 226 227 229 230 231 232 233 246 247 248 249 254 257 261 262 264] are constant.\n",
      "  UserWarning)\n",
      "/anaconda3/lib/python3.7/site-packages/sklearn/feature_selection/univariate_selection.py:114: RuntimeWarning: invalid value encountered in true_divide\n",
      "  f = msb / msw\n",
      "/anaconda3/lib/python3.7/site-packages/sklearn/neural_network/multilayer_perceptron.py:564: ConvergenceWarning: Stochastic Optimizer: Maximum iterations (200) reached and the optimization hasn't converged yet.\n",
      "  % self.max_iter, ConvergenceWarning)\n",
      "/anaconda3/lib/python3.7/site-packages/sklearn/metrics/classification.py:1137: UndefinedMetricWarning: F-score is ill-defined and being set to 0.0 due to no true samples.\n",
      "  'recall', 'true', average, warn_for)\n"
     ]
    },
    {
     "name": "stdout",
     "output_type": "stream",
     "text": [
      "<class 'sklearn.neural_network.multilayer_perceptron.MLPClassifier'>\n",
      "<class 'sklearn.neural_network.multilayer_perceptron.MLPClassifier'>\n",
      "<class 'sklearn.naive_bayes.GaussianNB'>\n",
      "<class 'sklearn.naive_bayes.GaussianNB'>\n",
      "<class 'sklearn.svm.classes.LinearSVC'>\n",
      "<class 'sklearn.svm.classes.LinearSVC'>\n",
      "<class 'sklearn.ensemble.forest.ExtraTreesClassifier'>\n",
      "<class 'sklearn.tree.tree.DecisionTreeClassifier'>\n",
      "<class 'sklearn.tree.tree.DecisionTreeClassifier'>\n",
      "<class 'sklearn.ensemble.forest.RandomForestClassifier'>\n"
     ]
    },
    {
     "name": "stderr",
     "output_type": "stream",
     "text": [
      "/anaconda3/lib/python3.7/site-packages/sklearn/metrics/classification.py:1137: UndefinedMetricWarning: F-score is ill-defined and being set to 0.0 due to no true samples.\n",
      "  'recall', 'true', average, warn_for)\n"
     ]
    },
    {
     "name": "stdout",
     "output_type": "stream",
     "text": [
      "<class 'sklearn.ensemble.weight_boosting.AdaBoostClassifier'>\n",
      "<class 'sklearn.ensemble.gradient_boosting.GradientBoostingClassifier'>\n",
      "<class 'sklearn.ensemble.gradient_boosting.GradientBoostingClassifier'>\n",
      "=====================\n",
      "-1\n",
      "-1\n",
      "0 is more\n"
     ]
    },
    {
     "name": "stderr",
     "output_type": "stream",
     "text": [
      "/anaconda3/lib/python3.7/site-packages/sklearn/feature_selection/univariate_selection.py:113: UserWarning: Features [  7  10  13  18  22  24  29  31  35  36  37  38  39  41  42  44  47  49\n",
      "  50  52  55  56  57  58  61  62  63  64  65  67  68  70  71  72  73  74\n",
      "  75  86  89  92  97 101 103 108 110 114 115 116 117 118 120 121 123 126\n",
      " 128 129 131 134 135 136 137 140 141 142 143 144 146 147 149 150 151 152\n",
      " 153 154 160 162 163 186 199 200 202 211 212 214 215 216 217 218 221 222\n",
      " 223 224 226 227 229 230 231 232 233 246 247 248 249 254 257 261 262 264] are constant.\n",
      "  UserWarning)\n",
      "/anaconda3/lib/python3.7/site-packages/sklearn/feature_selection/univariate_selection.py:114: RuntimeWarning: invalid value encountered in true_divide\n",
      "  f = msb / msw\n",
      "/anaconda3/lib/python3.7/site-packages/sklearn/neural_network/multilayer_perceptron.py:564: ConvergenceWarning: Stochastic Optimizer: Maximum iterations (200) reached and the optimization hasn't converged yet.\n",
      "  % self.max_iter, ConvergenceWarning)\n",
      "/anaconda3/lib/python3.7/site-packages/sklearn/metrics/classification.py:1135: UndefinedMetricWarning: F-score is ill-defined and being set to 0.0 due to no predicted samples.\n",
      "  'precision', 'predicted', average, warn_for)\n"
     ]
    },
    {
     "name": "stdout",
     "output_type": "stream",
     "text": [
      "<class 'sklearn.neural_network.multilayer_perceptron.MLPClassifier'>\n",
      "<class 'sklearn.neural_network.multilayer_perceptron.MLPClassifier'>\n",
      "<class 'sklearn.naive_bayes.GaussianNB'>\n",
      "<class 'sklearn.naive_bayes.GaussianNB'>\n",
      "<class 'sklearn.svm.classes.LinearSVC'>\n",
      "<class 'sklearn.svm.classes.LinearSVC'>\n",
      "<class 'sklearn.ensemble.forest.ExtraTreesClassifier'>\n",
      "<class 'sklearn.tree.tree.DecisionTreeClassifier'>\n",
      "<class 'sklearn.tree.tree.DecisionTreeClassifier'>\n"
     ]
    },
    {
     "name": "stderr",
     "output_type": "stream",
     "text": [
      "/anaconda3/lib/python3.7/site-packages/sklearn/metrics/classification.py:1135: UndefinedMetricWarning: F-score is ill-defined and being set to 0.0 due to no predicted samples.\n",
      "  'precision', 'predicted', average, warn_for)\n"
     ]
    },
    {
     "name": "stdout",
     "output_type": "stream",
     "text": [
      "<class 'sklearn.ensemble.forest.RandomForestClassifier'>\n",
      "<class 'sklearn.ensemble.forest.RandomForestClassifier'>\n",
      "<class 'sklearn.ensemble.weight_boosting.AdaBoostClassifier'>\n",
      "<class 'sklearn.ensemble.gradient_boosting.GradientBoostingClassifier'>\n",
      "=====================\n",
      "-1\n",
      "-1\n",
      "1 is more\n"
     ]
    },
    {
     "name": "stderr",
     "output_type": "stream",
     "text": [
      "/anaconda3/lib/python3.7/site-packages/sklearn/feature_selection/univariate_selection.py:113: UserWarning: Features [  7  10  13  18  22  24  29  31  35  36  37  38  39  41  42  44  47  49\n",
      "  50  52  55  56  57  58  61  62  63  64  65  67  68  70  71  72  73  74\n",
      "  75  86  89  92  97 101 103 108 110 114 115 116 117 118 120 121 123 126\n",
      " 128 129 131 134 135 136 137 140 141 142 143 144 146 147 149 150 151 152\n",
      " 153 154 160 162 163 186 199 200 202 211 212 214 215 216 217 218 221 222\n",
      " 223 224 226 227 229 230 231 232 233 246 247 248 249 254 257 261 262 264] are constant.\n",
      "  UserWarning)\n",
      "/anaconda3/lib/python3.7/site-packages/sklearn/feature_selection/univariate_selection.py:114: RuntimeWarning: invalid value encountered in true_divide\n",
      "  f = msb / msw\n"
     ]
    },
    {
     "name": "stdout",
     "output_type": "stream",
     "text": [
      "<class 'sklearn.neural_network.multilayer_perceptron.MLPClassifier'>\n",
      "<class 'sklearn.naive_bayes.GaussianNB'>\n",
      "<class 'sklearn.naive_bayes.GaussianNB'>\n",
      "<class 'sklearn.svm.classes.LinearSVC'>\n",
      "<class 'sklearn.ensemble.forest.ExtraTreesClassifier'>\n",
      "<class 'sklearn.ensemble.forest.ExtraTreesClassifier'>\n",
      "<class 'sklearn.tree.tree.DecisionTreeClassifier'>\n",
      "<class 'sklearn.ensemble.forest.RandomForestClassifier'>\n",
      "<class 'sklearn.ensemble.forest.RandomForestClassifier'>\n",
      "<class 'sklearn.ensemble.weight_boosting.AdaBoostClassifier'>\n",
      "<class 'sklearn.ensemble.gradient_boosting.GradientBoostingClassifier'>\n",
      "=====================\n",
      "-1\n",
      "-1\n",
      "400\n",
      "0 is more\n"
     ]
    },
    {
     "name": "stderr",
     "output_type": "stream",
     "text": [
      "/anaconda3/lib/python3.7/site-packages/sklearn/feature_selection/univariate_selection.py:113: UserWarning: Features [  7  10  13  18  22  24  29  31  35  36  37  38  39  41  42  44  47  49\n",
      "  50  52  55  56  57  58  61  62  63  64  65  67  68  70  71  72  73  74\n",
      "  75  86  89  92  97 101 103 108 110 114 115 116 117 118 120 121 123 126\n",
      " 128 129 131 134 135 136 137 140 141 142 143 144 146 147 149 150 151 152\n",
      " 153 154 160 162 163 186 199 200 202 211 212 214 215 216 217 218 221 222\n",
      " 223 224 226 227 229 230 231 232 233 246 247 248 249 254 257 261 262 264] are constant.\n",
      "  UserWarning)\n",
      "/anaconda3/lib/python3.7/site-packages/sklearn/feature_selection/univariate_selection.py:114: RuntimeWarning: invalid value encountered in true_divide\n",
      "  f = msb / msw\n",
      "/anaconda3/lib/python3.7/site-packages/sklearn/neural_network/multilayer_perceptron.py:564: ConvergenceWarning: Stochastic Optimizer: Maximum iterations (200) reached and the optimization hasn't converged yet.\n",
      "  % self.max_iter, ConvergenceWarning)\n",
      "/anaconda3/lib/python3.7/site-packages/sklearn/metrics/classification.py:1135: UndefinedMetricWarning: F-score is ill-defined and being set to 0.0 due to no predicted samples.\n",
      "  'precision', 'predicted', average, warn_for)\n"
     ]
    },
    {
     "name": "stdout",
     "output_type": "stream",
     "text": [
      "<class 'sklearn.neural_network.multilayer_perceptron.MLPClassifier'>\n",
      "<class 'sklearn.neural_network.multilayer_perceptron.MLPClassifier'>\n",
      "<class 'sklearn.naive_bayes.GaussianNB'>\n",
      "<class 'sklearn.naive_bayes.GaussianNB'>\n",
      "<class 'sklearn.svm.classes.LinearSVC'>\n",
      "<class 'sklearn.svm.classes.LinearSVC'>\n",
      "<class 'sklearn.ensemble.forest.ExtraTreesClassifier'>\n",
      "<class 'sklearn.tree.tree.DecisionTreeClassifier'>\n",
      "<class 'sklearn.tree.tree.DecisionTreeClassifier'>\n",
      "<class 'sklearn.ensemble.forest.RandomForestClassifier'>\n"
     ]
    },
    {
     "name": "stderr",
     "output_type": "stream",
     "text": [
      "/anaconda3/lib/python3.7/site-packages/sklearn/metrics/classification.py:1135: UndefinedMetricWarning: F-score is ill-defined and being set to 0.0 due to no predicted samples.\n",
      "  'precision', 'predicted', average, warn_for)\n",
      "/anaconda3/lib/python3.7/site-packages/sklearn/metrics/classification.py:1135: UndefinedMetricWarning: F-score is ill-defined and being set to 0.0 due to no predicted samples.\n",
      "  'precision', 'predicted', average, warn_for)\n"
     ]
    },
    {
     "name": "stdout",
     "output_type": "stream",
     "text": [
      "<class 'sklearn.ensemble.weight_boosting.AdaBoostClassifier'>\n",
      "<class 'sklearn.ensemble.weight_boosting.AdaBoostClassifier'>\n"
     ]
    },
    {
     "name": "stderr",
     "output_type": "stream",
     "text": [
      "/anaconda3/lib/python3.7/site-packages/sklearn/metrics/classification.py:1135: UndefinedMetricWarning: F-score is ill-defined and being set to 0.0 due to no predicted samples.\n",
      "  'precision', 'predicted', average, warn_for)\n"
     ]
    },
    {
     "name": "stdout",
     "output_type": "stream",
     "text": [
      "<class 'sklearn.ensemble.gradient_boosting.GradientBoostingClassifier'>\n",
      "<class 'sklearn.ensemble.gradient_boosting.GradientBoostingClassifier'>\n",
      "=====================\n",
      "-1\n",
      "-1\n",
      "0 is more\n"
     ]
    },
    {
     "name": "stderr",
     "output_type": "stream",
     "text": [
      "/anaconda3/lib/python3.7/site-packages/sklearn/feature_selection/univariate_selection.py:113: UserWarning: Features [  7  10  13  18  22  24  29  31  35  36  37  38  39  41  42  44  47  49\n",
      "  50  52  55  56  57  58  61  62  63  64  65  67  68  70  71  72  73  74\n",
      "  75  86  89  92  97 101 103 108 110 114 115 116 117 118 120 121 123 126\n",
      " 128 129 131 134 135 136 137 140 141 142 143 144 146 147 149 150 151 152\n",
      " 153 154 160 162 163 186 199 200 202 211 212 214 215 216 217 218 221 222\n",
      " 223 224 226 227 229 230 231 232 233 246 247 248 249 254 257 261 262 264] are constant.\n",
      "  UserWarning)\n",
      "/anaconda3/lib/python3.7/site-packages/sklearn/feature_selection/univariate_selection.py:114: RuntimeWarning: invalid value encountered in true_divide\n",
      "  f = msb / msw\n",
      "/anaconda3/lib/python3.7/site-packages/sklearn/neural_network/multilayer_perceptron.py:564: ConvergenceWarning: Stochastic Optimizer: Maximum iterations (200) reached and the optimization hasn't converged yet.\n",
      "  % self.max_iter, ConvergenceWarning)\n",
      "/anaconda3/lib/python3.7/site-packages/sklearn/metrics/classification.py:1137: UndefinedMetricWarning: F-score is ill-defined and being set to 0.0 due to no true samples.\n",
      "  'recall', 'true', average, warn_for)\n"
     ]
    },
    {
     "name": "stdout",
     "output_type": "stream",
     "text": [
      "<class 'sklearn.neural_network.multilayer_perceptron.MLPClassifier'>\n",
      "<class 'sklearn.neural_network.multilayer_perceptron.MLPClassifier'>\n",
      "<class 'sklearn.naive_bayes.GaussianNB'>\n",
      "<class 'sklearn.naive_bayes.GaussianNB'>\n",
      "<class 'sklearn.svm.classes.LinearSVC'>\n",
      "<class 'sklearn.svm.classes.LinearSVC'>\n",
      "<class 'sklearn.ensemble.forest.ExtraTreesClassifier'>\n",
      "<class 'sklearn.tree.tree.DecisionTreeClassifier'>\n",
      "<class 'sklearn.tree.tree.DecisionTreeClassifier'>\n",
      "<class 'sklearn.ensemble.forest.RandomForestClassifier'>\n",
      "<class 'sklearn.ensemble.weight_boosting.AdaBoostClassifier'>\n",
      "<class 'sklearn.ensemble.weight_boosting.AdaBoostClassifier'>\n",
      "<class 'sklearn.ensemble.gradient_boosting.GradientBoostingClassifier'>\n",
      "<class 'sklearn.ensemble.gradient_boosting.GradientBoostingClassifier'>\n",
      "=====================\n",
      "-1\n",
      "-1\n",
      "[0, 0, 0, 1, 0, 1, 1, 1, 1, 1, 1, 0, 0, 0, 0, 1, 1, 0, 1, 0, 0, 0, 1, 1, 0, 0, 0, 1, 0, 0]\n",
      "[0, 1, 0, 1, 0, 1, 0, 0, 0, 1, 0, 0, 0, 0, 1, 1, 1, 0, 1, 0, 0, 0, 0, 1, 0, 0, 0, 1, 0, 0]\n",
      "23\n",
      "0.7666666666666667\n"
     ]
    }
   ],
   "source": [
    "avg=0\n",
    "new=[]\n",
    "classifiers=[MLPClassifier,GaussianNB,LinearSVC,ExtraTreesClassifier,DecisionTreeClassifier,RandomForestClassifier,AdaBoostClassifier,GradientBoostingClassifier]\n",
    "for i in range(len(lll)):\n",
    "    y=dfs2[lll[i]]\n",
    "    #print(lll[i])\n",
    "    X=dfs\n",
    "    mod = SelectKBest(f_classif, k=100).fit(X,y)\n",
    "    X_n=mod.transform(X)\n",
    "    X_n=pd.DataFrame(X_n)\n",
    "    #print(mod.get_support([False]))\n",
    "    pca=PCA(n_components=50)\n",
    "    mod1=pca.fit(X_n)\n",
    "    kk=mod1.explained_variance_ratio_\n",
    "\n",
    "    X_nn=mod1.transform(X_n)\n",
    "    #print(X_nn.shape)\n",
    "    #print(y.size)\n",
    "    \n",
    "\n",
    "    \n",
    "    X_train, X_test, y_train, y_test = train_test_split(X_nn, y, test_size=0.0001)\n",
    "    X_test=pd.DataFrame(d1)\n",
    "    X_test=(X_test).T\n",
    "    X_test= sc_mod.transform(X_test)\n",
    "    X_test=mod.transform(X_test)\n",
    "    X_test=pd.DataFrame(X_test)\n",
    "    \n",
    "    X_test=mod1.transform(X_test)\n",
    "    X_test=pd.DataFrame(X_test)\n",
    "    \n",
    "    X_train,y_train=modify_imbalance(X_train,y_train)\n",
    "    #print(X_nn.shape)\n",
    "    #print(len(y))\n",
    "    count=0\n",
    "    maxx=-1\n",
    "    chosen=-1\n",
    "    c1=0\n",
    "    c0=0\n",
    "    for jj in y_train:\n",
    "        if(jj==1):\n",
    "            c1+=1\n",
    "        else:\n",
    "            c0+=1\n",
    "#     orig=[0,0,1,1,1,0,1,1,1,0,0,1]   \n",
    "    l=orig\n",
    "    cc=-1\n",
    "    #print(\"num of 1's\",c1)\n",
    "    #print(\"num of 0's\",c0)\n",
    "    for pp in classifiers:\n",
    "        #print(pp)\n",
    "        mlp=pp()\n",
    "        cc+=1\n",
    "        \n",
    "        #mlp=MLPClassifier()\n",
    "        #if(pp==MLPClassifier):\n",
    "        #    mlp=pp(max_iter=500)\n",
    "        cl_mod=mlp.fit(X_train,y_train)\n",
    "        y_pred=cl_mod.predict(X_test)\n",
    "        #print(y_pred)\n",
    "        if (y_pred==[1]):\n",
    "            count+=1\n",
    "        if (y_pred[0]==l[cc]):\n",
    "            print(pp)\n",
    "        '''check_precision(y_test,y_pred)'''\n",
    "        try:\n",
    "            f2_score=metrics.fbeta_score(y_test, y_pred, beta=2) \n",
    "            auc=metrics.roc_auc_score(y_test,y_pred)\n",
    "            score=(f2_score+auc)/2\n",
    "            if(score>maxx):\n",
    "                maxx=score\n",
    "                chosen=pp\n",
    "        except:\n",
    "            print(pp)\n",
    "        \n",
    "    #print(avg/len(ll))\n",
    "    print(\"=====================\")\n",
    "    print(chosen)\n",
    "    print(maxx)\n",
    "    \n",
    "    \n",
    "    if (count>=6):\n",
    "        new.append(1)\n",
    "        print(lll[i])\n",
    "    else:\n",
    "        new.append(0)\n",
    "        \n",
    "print(new)\n",
    "print(l)\n",
    "ri=0\n",
    "for q in range(len(new)):\n",
    "    if(new[q]==l[q]):\n",
    "        ri+=1\n",
    "print(ri)\n",
    "print(ri/len(new))"
   ]
  },
  {
   "cell_type": "code",
   "execution_count": null,
   "metadata": {},
   "outputs": [],
   "source": []
  },
  {
   "cell_type": "code",
   "execution_count": null,
   "metadata": {},
   "outputs": [],
   "source": []
  }
 ],
 "metadata": {
  "kernelspec": {
   "display_name": "Python 3",
   "language": "python",
   "name": "python3"
  },
  "language_info": {
   "codemirror_mode": {
    "name": "ipython",
    "version": 3
   },
   "file_extension": ".py",
   "mimetype": "text/x-python",
   "name": "python",
   "nbconvert_exporter": "python",
   "pygments_lexer": "ipython3",
   "version": "3.7.0"
  }
 },
 "nbformat": 4,
 "nbformat_minor": 2
}
